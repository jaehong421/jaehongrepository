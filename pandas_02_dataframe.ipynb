{
  "nbformat": 4,
  "nbformat_minor": 0,
  "metadata": {
    "colab": {
      "name": "pandas_02_dataframe.ipynb",
      "provenance": [],
      "collapsed_sections": [],
      "include_colab_link": true
    },
    "kernelspec": {
      "name": "python3",
      "display_name": "Python 3"
    },
    "language_info": {
      "name": "python"
    }
  },
  "cells": [
    {
      "cell_type": "markdown",
      "metadata": {
        "id": "view-in-github",
        "colab_type": "text"
      },
      "source": [
        "<a href=\"https://colab.research.google.com/github/jaehong421/jaehongrepository/blob/main/pandas_02_dataframe.ipynb\" target=\"_parent\"><img src=\"https://colab.research.google.com/assets/colab-badge.svg\" alt=\"Open In Colab\"/></a>"
      ]
    },
    {
      "cell_type": "markdown",
      "metadata": {
        "id": "c91S0nenHIgF"
      },
      "source": [
        "# **DataFrame**\n",
        "+ 2차원 자료구조인 DataFrame는 행과 열이 있는 테이블 데이터\n"
      ]
    },
    {
      "cell_type": "markdown",
      "metadata": {
        "id": "5PCO1T_6HkNU"
      },
      "source": [
        "## **pandas 라이브러리 추가**"
      ]
    },
    {
      "cell_type": "code",
      "metadata": {
        "id": "TRAkQWf2HhxB"
      },
      "source": [
        "import pandas as pd"
      ],
      "execution_count": 1,
      "outputs": []
    },
    {
      "cell_type": "markdown",
      "metadata": {
        "id": "BApiG-yeJqIN"
      },
      "source": [
        "### 복습문제) \n",
        "다음 4개의 리스트를 이용하여 각 지역별 평균, 최대, 최소값 리스트를 값으로 가지는 딕션너라를 작성하시오.\n",
        "* 데이터참고:https://www.airkorea.or.kr/web/weekSearch?pMENU_NO=111\n",
        "```\n",
        "area = ['서울','부산','대구','인천','광주','대전','울산','세종','경기','강원','충북','충남','전북','전남','경북','경남','제주']\n",
        "pm25_avg = [20,13,15,20,19,16,14,18,20,14,19,23,23,14,15,13,14]\n",
        "pm25_max = [22,18,18,30,23,20,16,19,27,18,26,29,30,27,23,17,16]\n",
        "pm25_min = [16,10,11,12,15,12,11,17,13,9,14,19,14,10,8,9,11]\n",
        "```"
      ]
    },
    {
      "cell_type": "code",
      "metadata": {
        "id": "CIOZ77trF5l9"
      },
      "source": [
        "area = ['서울',\t'부산',\t'대구',\t'인천',\t'광주',\t'대전',\t'울산',\t'세종',\t'경기',\t'강원',\t'충북',\t'충남',\t'전북',\t'전남',\t'경북',\t'경남',\t'제주']\n",
        "pm25_avg = [20,13,15,20,19,16,14,18,20,14,19,23,23,14,15,13,14]\n",
        "pm25_max = [22,18,18,30,23,20,16,19,27,18,26,29,30,27,23,17,16]\n",
        "pm25_min = [16,10,11,12,15,12,11,17,13,9,14,19,14,10,8,9,11]"
      ],
      "execution_count": 4,
      "outputs": []
    },
    {
      "cell_type": "code",
      "metadata": {
        "id": "mkIUet7qbijh"
      },
      "source": [
        "print(area)"
      ],
      "execution_count": null,
      "outputs": []
    },
    {
      "cell_type": "markdown",
      "metadata": {
        "id": "gUzx35xJMkFR"
      },
      "source": [
        "## 데이터프레임으로 변환\n",
        "* **pd.DataFrame()**"
      ]
    },
    {
      "cell_type": "markdown",
      "metadata": {
        "id": "c1kVpPdfNRTZ"
      },
      "source": [
        "###  리스트를 데이터프레임으로 변환"
      ]
    },
    {
      "cell_type": "code",
      "metadata": {
        "id": "VVTw0bVSNedW"
      },
      "source": [
        "df = pd.DataFrame(area)"
      ],
      "execution_count": 12,
      "outputs": []
    },
    {
      "cell_type": "code",
      "metadata": {
        "id": "M7c5EMkLc9NN"
      },
      "source": [
        "df['평균'] = pm25_avg\n",
        "df['최대'] = pm25_max\n",
        "df['최소'] = pm25_min\n",
        "df"
      ],
      "execution_count": null,
      "outputs": []
    },
    {
      "cell_type": "markdown",
      "metadata": {
        "id": "CR5LSrBWNMD0"
      },
      "source": [
        "### 딕션너리를 데이터프레임으로 변환\n",
        "* 딕션너리 키 : 열(column)\n",
        "* 딕션너리 값 : 행(row)"
      ]
    },
    {
      "cell_type": "code",
      "metadata": {
        "id": "y1UZnc4gMjNV"
      },
      "source": [
        "df = pd.DataFrame(dt)\n",
        "df"
      ],
      "execution_count": null,
      "outputs": []
    },
    {
      "cell_type": "code",
      "metadata": {
        "id": "NQ-xNDueoZsm"
      },
      "source": [
        "df = pd.DataFrame()\n",
        "df['area'] = area\n",
        "df['avg'] = pm25_avg\n",
        "df['max'] = pm25_max\n",
        "df['min'] = pm25_min\n",
        "df"
      ],
      "execution_count": null,
      "outputs": []
    },
    {
      "cell_type": "code",
      "metadata": {
        "id": "XwDq1eUJduZi"
      },
      "source": [
        "temp = list(zip(area,pm25_avg,pm25_max,pm25_min ))\n",
        "\n",
        "df2 = pd.DataFrame(temp)\n",
        "df2"
      ],
      "execution_count": null,
      "outputs": []
    },
    {
      "cell_type": "code",
      "metadata": {
        "id": "sZorXYsOpO6p",
        "colab": {
          "base_uri": "https://localhost:8080/",
          "height": 576
        },
        "outputId": "295da27b-3bb3-468f-b008-7c0fbf952dd1"
      },
      "source": [
        "dtz = list(zip(area,pm25_avg,pm25_max,pm25_min ))\n",
        "\n",
        "df = pd.DataFrame(dtz)\n",
        "df.columns = ['area', 'avg', 'max', 'min']\n",
        "df"
      ],
      "execution_count": 21,
      "outputs": [
        {
          "output_type": "execute_result",
          "data": {
            "text/html": [
              "<div>\n",
              "<style scoped>\n",
              "    .dataframe tbody tr th:only-of-type {\n",
              "        vertical-align: middle;\n",
              "    }\n",
              "\n",
              "    .dataframe tbody tr th {\n",
              "        vertical-align: top;\n",
              "    }\n",
              "\n",
              "    .dataframe thead th {\n",
              "        text-align: right;\n",
              "    }\n",
              "</style>\n",
              "<table border=\"1\" class=\"dataframe\">\n",
              "  <thead>\n",
              "    <tr style=\"text-align: right;\">\n",
              "      <th></th>\n",
              "      <th>area</th>\n",
              "      <th>avg</th>\n",
              "      <th>max</th>\n",
              "      <th>min</th>\n",
              "    </tr>\n",
              "  </thead>\n",
              "  <tbody>\n",
              "    <tr>\n",
              "      <th>0</th>\n",
              "      <td>서울</td>\n",
              "      <td>20</td>\n",
              "      <td>22</td>\n",
              "      <td>16</td>\n",
              "    </tr>\n",
              "    <tr>\n",
              "      <th>1</th>\n",
              "      <td>부산</td>\n",
              "      <td>13</td>\n",
              "      <td>18</td>\n",
              "      <td>10</td>\n",
              "    </tr>\n",
              "    <tr>\n",
              "      <th>2</th>\n",
              "      <td>대구</td>\n",
              "      <td>15</td>\n",
              "      <td>18</td>\n",
              "      <td>11</td>\n",
              "    </tr>\n",
              "    <tr>\n",
              "      <th>3</th>\n",
              "      <td>인천</td>\n",
              "      <td>20</td>\n",
              "      <td>30</td>\n",
              "      <td>12</td>\n",
              "    </tr>\n",
              "    <tr>\n",
              "      <th>4</th>\n",
              "      <td>광주</td>\n",
              "      <td>19</td>\n",
              "      <td>23</td>\n",
              "      <td>15</td>\n",
              "    </tr>\n",
              "    <tr>\n",
              "      <th>5</th>\n",
              "      <td>대전</td>\n",
              "      <td>16</td>\n",
              "      <td>20</td>\n",
              "      <td>12</td>\n",
              "    </tr>\n",
              "    <tr>\n",
              "      <th>6</th>\n",
              "      <td>울산</td>\n",
              "      <td>14</td>\n",
              "      <td>16</td>\n",
              "      <td>11</td>\n",
              "    </tr>\n",
              "    <tr>\n",
              "      <th>7</th>\n",
              "      <td>세종</td>\n",
              "      <td>18</td>\n",
              "      <td>19</td>\n",
              "      <td>17</td>\n",
              "    </tr>\n",
              "    <tr>\n",
              "      <th>8</th>\n",
              "      <td>경기</td>\n",
              "      <td>20</td>\n",
              "      <td>27</td>\n",
              "      <td>13</td>\n",
              "    </tr>\n",
              "    <tr>\n",
              "      <th>9</th>\n",
              "      <td>강원</td>\n",
              "      <td>14</td>\n",
              "      <td>18</td>\n",
              "      <td>9</td>\n",
              "    </tr>\n",
              "    <tr>\n",
              "      <th>10</th>\n",
              "      <td>충북</td>\n",
              "      <td>19</td>\n",
              "      <td>26</td>\n",
              "      <td>14</td>\n",
              "    </tr>\n",
              "    <tr>\n",
              "      <th>11</th>\n",
              "      <td>충남</td>\n",
              "      <td>23</td>\n",
              "      <td>29</td>\n",
              "      <td>19</td>\n",
              "    </tr>\n",
              "    <tr>\n",
              "      <th>12</th>\n",
              "      <td>전북</td>\n",
              "      <td>23</td>\n",
              "      <td>30</td>\n",
              "      <td>14</td>\n",
              "    </tr>\n",
              "    <tr>\n",
              "      <th>13</th>\n",
              "      <td>전남</td>\n",
              "      <td>14</td>\n",
              "      <td>27</td>\n",
              "      <td>10</td>\n",
              "    </tr>\n",
              "    <tr>\n",
              "      <th>14</th>\n",
              "      <td>경북</td>\n",
              "      <td>15</td>\n",
              "      <td>23</td>\n",
              "      <td>8</td>\n",
              "    </tr>\n",
              "    <tr>\n",
              "      <th>15</th>\n",
              "      <td>경남</td>\n",
              "      <td>13</td>\n",
              "      <td>17</td>\n",
              "      <td>9</td>\n",
              "    </tr>\n",
              "    <tr>\n",
              "      <th>16</th>\n",
              "      <td>제주</td>\n",
              "      <td>14</td>\n",
              "      <td>16</td>\n",
              "      <td>11</td>\n",
              "    </tr>\n",
              "  </tbody>\n",
              "</table>\n",
              "</div>"
            ],
            "text/plain": [
              "   area  avg  max  min\n",
              "0    서울   20   22   16\n",
              "1    부산   13   18   10\n",
              "2    대구   15   18   11\n",
              "3    인천   20   30   12\n",
              "4    광주   19   23   15\n",
              "5    대전   16   20   12\n",
              "6    울산   14   16   11\n",
              "7    세종   18   19   17\n",
              "8    경기   20   27   13\n",
              "9    강원   14   18    9\n",
              "10   충북   19   26   14\n",
              "11   충남   23   29   19\n",
              "12   전북   23   30   14\n",
              "13   전남   14   27   10\n",
              "14   경북   15   23    8\n",
              "15   경남   13   17    9\n",
              "16   제주   14   16   11"
            ]
          },
          "metadata": {
            "tags": []
          },
          "execution_count": 21
        }
      ]
    },
    {
      "cell_type": "markdown",
      "metadata": {
        "id": "JS_gxUnAOHSE"
      },
      "source": [
        "## 외부 데이터 가져오기\n",
        "+ csv 읽기\n",
        " - 한글 파일명을 사용할 경우 : df = pd.read_csv(‘파일명‘, engine='python')\n",
        " - 파일 내용 한글이 깨지는 경우 : df = pd.read_csv(‘파일명‘, engine='python', encoding='cp949')\n",
        ">\n",
        "```\n",
        "df = pd.read_csv(‘파일명‘)\n",
        "```\n",
        "\n",
        "+ 엑셀 읽기\n",
        " - 한글 파일명을 사용할 경우 : df = pd.read_excel(‘파일명‘)\n",
        ">\n",
        "```\n",
        "df = pd.pd.read_excel(‘파일명‘)\n",
        "```"
      ]
    },
    {
      "cell_type": "code",
      "metadata": {
        "id": "rgf7xNS2Owfw",
        "colab": {
          "base_uri": "https://localhost:8080/",
          "height": 576
        },
        "outputId": "b55c9b06-61ea-430e-aaae-c2726fba743d"
      },
      "source": [
        "#지역별주간별_초미세먼지.csv 가져오기 \n",
        "df = pd.read_csv('/content/drive/MyDrive/파이썬특강/python2021/data/지역별주간별_초미세먼지.csv', engine = 'python', encoding='cp949')\n",
        "df"
      ],
      "execution_count": 40,
      "outputs": [
        {
          "output_type": "execute_result",
          "data": {
            "text/html": [
              "<div>\n",
              "<style scoped>\n",
              "    .dataframe tbody tr th:only-of-type {\n",
              "        vertical-align: middle;\n",
              "    }\n",
              "\n",
              "    .dataframe tbody tr th {\n",
              "        vertical-align: top;\n",
              "    }\n",
              "\n",
              "    .dataframe thead th {\n",
              "        text-align: right;\n",
              "    }\n",
              "</style>\n",
              "<table border=\"1\" class=\"dataframe\">\n",
              "  <thead>\n",
              "    <tr style=\"text-align: right;\">\n",
              "      <th></th>\n",
              "      <th>지역</th>\n",
              "      <th>주간평균</th>\n",
              "      <th>최고값</th>\n",
              "      <th>최저값</th>\n",
              "    </tr>\n",
              "  </thead>\n",
              "  <tbody>\n",
              "    <tr>\n",
              "      <th>0</th>\n",
              "      <td>서울</td>\n",
              "      <td>20</td>\n",
              "      <td>22</td>\n",
              "      <td>16</td>\n",
              "    </tr>\n",
              "    <tr>\n",
              "      <th>1</th>\n",
              "      <td>부산</td>\n",
              "      <td>13</td>\n",
              "      <td>18</td>\n",
              "      <td>10</td>\n",
              "    </tr>\n",
              "    <tr>\n",
              "      <th>2</th>\n",
              "      <td>대구</td>\n",
              "      <td>15</td>\n",
              "      <td>18</td>\n",
              "      <td>11</td>\n",
              "    </tr>\n",
              "    <tr>\n",
              "      <th>3</th>\n",
              "      <td>인천</td>\n",
              "      <td>20</td>\n",
              "      <td>30</td>\n",
              "      <td>12</td>\n",
              "    </tr>\n",
              "    <tr>\n",
              "      <th>4</th>\n",
              "      <td>광주</td>\n",
              "      <td>19</td>\n",
              "      <td>23</td>\n",
              "      <td>15</td>\n",
              "    </tr>\n",
              "    <tr>\n",
              "      <th>5</th>\n",
              "      <td>대전</td>\n",
              "      <td>16</td>\n",
              "      <td>20</td>\n",
              "      <td>12</td>\n",
              "    </tr>\n",
              "    <tr>\n",
              "      <th>6</th>\n",
              "      <td>울산</td>\n",
              "      <td>14</td>\n",
              "      <td>16</td>\n",
              "      <td>11</td>\n",
              "    </tr>\n",
              "    <tr>\n",
              "      <th>7</th>\n",
              "      <td>세종</td>\n",
              "      <td>18</td>\n",
              "      <td>19</td>\n",
              "      <td>17</td>\n",
              "    </tr>\n",
              "    <tr>\n",
              "      <th>8</th>\n",
              "      <td>경기</td>\n",
              "      <td>20</td>\n",
              "      <td>27</td>\n",
              "      <td>13</td>\n",
              "    </tr>\n",
              "    <tr>\n",
              "      <th>9</th>\n",
              "      <td>강원</td>\n",
              "      <td>14</td>\n",
              "      <td>18</td>\n",
              "      <td>9</td>\n",
              "    </tr>\n",
              "    <tr>\n",
              "      <th>10</th>\n",
              "      <td>충북</td>\n",
              "      <td>19</td>\n",
              "      <td>26</td>\n",
              "      <td>14</td>\n",
              "    </tr>\n",
              "    <tr>\n",
              "      <th>11</th>\n",
              "      <td>충남</td>\n",
              "      <td>23</td>\n",
              "      <td>29</td>\n",
              "      <td>19</td>\n",
              "    </tr>\n",
              "    <tr>\n",
              "      <th>12</th>\n",
              "      <td>전북</td>\n",
              "      <td>23</td>\n",
              "      <td>30</td>\n",
              "      <td>14</td>\n",
              "    </tr>\n",
              "    <tr>\n",
              "      <th>13</th>\n",
              "      <td>전남</td>\n",
              "      <td>14</td>\n",
              "      <td>27</td>\n",
              "      <td>10</td>\n",
              "    </tr>\n",
              "    <tr>\n",
              "      <th>14</th>\n",
              "      <td>경북</td>\n",
              "      <td>15</td>\n",
              "      <td>23</td>\n",
              "      <td>8</td>\n",
              "    </tr>\n",
              "    <tr>\n",
              "      <th>15</th>\n",
              "      <td>경남</td>\n",
              "      <td>13</td>\n",
              "      <td>17</td>\n",
              "      <td>9</td>\n",
              "    </tr>\n",
              "    <tr>\n",
              "      <th>16</th>\n",
              "      <td>제주</td>\n",
              "      <td>14</td>\n",
              "      <td>16</td>\n",
              "      <td>11</td>\n",
              "    </tr>\n",
              "  </tbody>\n",
              "</table>\n",
              "</div>"
            ],
            "text/plain": [
              "   지역   주간평균   최고값   최저값 \n",
              "0   서울     20    22    16\n",
              "1   부산     13    18    10\n",
              "2   대구     15    18    11\n",
              "3   인천     20    30    12\n",
              "4   광주     19    23    15\n",
              "5   대전     16    20    12\n",
              "6   울산     14    16    11\n",
              "7   세종     18    19    17\n",
              "8   경기     20    27    13\n",
              "9   강원     14    18     9\n",
              "10  충북     19    26    14\n",
              "11  충남     23    29    19\n",
              "12  전북     23    30    14\n",
              "13  전남     14    27    10\n",
              "14  경북     15    23     8\n",
              "15  경남     13    17     9\n",
              "16  제주     14    16    11"
            ]
          },
          "metadata": {
            "tags": []
          },
          "execution_count": 40
        }
      ]
    },
    {
      "cell_type": "markdown",
      "metadata": {
        "id": "2UfN4l5eRHfr"
      },
      "source": [
        "## 데이터프레임(DataFrame) 살펴보기\n",
        "* 데이터프레임의 정보 : **df.info()**\n",
        " - 데이터프레임에 대한 전반적인 정보\n",
        " - 데이터프레임을 구성하는 행과 열의 크기, 컬럼명, 컬럼을 구성하는 값의 자료형 등을 출력\n",
        "+ 데이터프레임의 크기 확인 : **df.shape 속성**\n",
        " - (행, 열) 크기를 확인하기\n",
        " - 행의 개수 : len(데이터프레임), len(.index), .shape[0]\n",
        " - 열의 개수 : len(.column), .shape[1]\n",
        "+ 데이터프레임의 원소의 총개수 : **df.size 속성**\n",
        "+ 데이터프레임 개수 확인 :**df.count()**\n",
        " - Null이 아닌 행의 개수 확인\n",
        " - axis='columns' : Null이 아닌 열의 개수 확인\n",
        "* 데이터프레임의 인덱스 \n",
        " + 열의 인덱스 : **df.colums**\n",
        " + 행의 인덱스 : **df.index**\n",
        " + **데이터프레임의 인덱스 변경**\n",
        "   - 열인덱스 명 변경 : df.column = [열명인덱스]\n",
        "   - 열항목 중 하나를 인덱스로 사용 : df.set_index(열명)\n",
        "   - 인덱스를 일반 데이터 열로 전환 : df.reset_index()"
      ]
    },
    {
      "cell_type": "code",
      "metadata": {
        "id": "RPDi18n9SGRu",
        "colab": {
          "base_uri": "https://localhost:8080/"
        },
        "outputId": "bda4c36d-73c8-42e4-d34f-4a0c5423c3bc"
      },
      "source": [
        "#데이터프레임의 정보\n",
        "df.info()"
      ],
      "execution_count": 41,
      "outputs": [
        {
          "output_type": "stream",
          "text": [
            "<class 'pandas.core.frame.DataFrame'>\n",
            "RangeIndex: 17 entries, 0 to 16\n",
            "Data columns (total 4 columns):\n",
            " #   Column  Non-Null Count  Dtype \n",
            "---  ------  --------------  ----- \n",
            " 0   지역      17 non-null     object\n",
            " 1   주간평균    17 non-null     int64 \n",
            " 2   최고값     17 non-null     int64 \n",
            " 3   최저값     17 non-null     int64 \n",
            "dtypes: int64(3), object(1)\n",
            "memory usage: 672.0+ bytes\n"
          ],
          "name": "stdout"
        }
      ]
    },
    {
      "cell_type": "code",
      "metadata": {
        "colab": {
          "base_uri": "https://localhost:8080/"
        },
        "id": "hpDLJNg1k9cd",
        "outputId": "be606a3e-25b3-4df8-e64a-f3d69bff4b0d"
      },
      "source": [
        "df.columns"
      ],
      "execution_count": 44,
      "outputs": [
        {
          "output_type": "execute_result",
          "data": {
            "text/plain": [
              "Index(['지역 ', '주간평균 ', '최고값 ', '최저값 '], dtype='object')"
            ]
          },
          "metadata": {
            "tags": []
          },
          "execution_count": 44
        }
      ]
    },
    {
      "cell_type": "code",
      "metadata": {
        "id": "6TsNgT0b3Js7",
        "colab": {
          "base_uri": "https://localhost:8080/"
        },
        "outputId": "8004b1d0-064e-4577-a812-fa2a572a1fdc"
      },
      "source": [
        "#데이터프레임의 크기 확인\n",
        "print('데이터프레임 (행, 열) : ', df.shape)\n",
        "print('데이터프레임 행 개수 len : ', len(df) )\n",
        "print('데이터프레임 행 개수 len : ', len(df.index) )\n",
        "print('데이터프레임 행 개수 shape : ', df.shape[0] )\n",
        "print('데이터프레임 열 개수 len : ', len(df.columns) )\n",
        "print('데이터프레임 열 개수 shape : ', df.shape[1] )"
      ],
      "execution_count": 42,
      "outputs": [
        {
          "output_type": "stream",
          "text": [
            "데이터프레임 (행, 열) :  (17, 4)\n",
            "데이터프레임 행 개수 len :  17\n",
            "데이터프레임 행 개수 len :  17\n",
            "데이터프레임 행 개수 shape :  17\n",
            "데이터프레임 열 개수 len :  4\n",
            "데이터프레임 열 개수 shape :  4\n"
          ],
          "name": "stdout"
        }
      ]
    },
    {
      "cell_type": "code",
      "metadata": {
        "id": "x820CTxf7sUS",
        "colab": {
          "base_uri": "https://localhost:8080/"
        },
        "outputId": "486328b7-d924-4ef5-9d2d-bf238a06a70a"
      },
      "source": [
        "#데이터프레임 각 열의개수 확인\n",
        "print(df.count())\n",
        "print('-'*20)\n",
        "print(df.count(axis='columns'))"
      ],
      "execution_count": 45,
      "outputs": [
        {
          "output_type": "stream",
          "text": [
            "지역       17\n",
            "주간평균     17\n",
            "최고값      17\n",
            "최저값      17\n",
            "dtype: int64\n",
            "--------------------\n",
            "0     4\n",
            "1     4\n",
            "2     4\n",
            "3     4\n",
            "4     4\n",
            "5     4\n",
            "6     4\n",
            "7     4\n",
            "8     4\n",
            "9     4\n",
            "10    4\n",
            "11    4\n",
            "12    4\n",
            "13    4\n",
            "14    4\n",
            "15    4\n",
            "16    4\n",
            "dtype: int64\n"
          ],
          "name": "stdout"
        }
      ]
    },
    {
      "cell_type": "code",
      "metadata": {
        "id": "-_PcsEFSDcsV"
      },
      "source": [
        "#데이터프레임의 원소의 총개수\n",
        "print(df.size)"
      ],
      "execution_count": null,
      "outputs": []
    },
    {
      "cell_type": "code",
      "metadata": {
        "id": "1VWiVWQ_SQtl",
        "colab": {
          "base_uri": "https://localhost:8080/"
        },
        "outputId": "ac9c8599-548b-43b0-dd0a-b662430b6c85"
      },
      "source": [
        "#데이터프레임의 인덱스\n",
        "print('열인덱스 : ', df.columns)\n",
        "print('행인덱스 :', df.index)"
      ],
      "execution_count": 47,
      "outputs": [
        {
          "output_type": "stream",
          "text": [
            "열인덱스 :  Index(['지역 ', '주간평균 ', '최고값 ', '최저값 '], dtype='object')\n",
            "행인덱스 : RangeIndex(start=0, stop=17, step=1)\n"
          ],
          "name": "stdout"
        }
      ]
    },
    {
      "cell_type": "code",
      "metadata": {
        "colab": {
          "base_uri": "https://localhost:8080/"
        },
        "id": "BIkX81mNmDfp",
        "outputId": "b27e7919-ec5f-4e45-da8e-dc6b21c6eac1"
      },
      "source": [
        "df['최고값 ']"
      ],
      "execution_count": 48,
      "outputs": [
        {
          "output_type": "execute_result",
          "data": {
            "text/plain": [
              "0     22\n",
              "1     18\n",
              "2     18\n",
              "3     30\n",
              "4     23\n",
              "5     20\n",
              "6     16\n",
              "7     19\n",
              "8     27\n",
              "9     18\n",
              "10    26\n",
              "11    29\n",
              "12    30\n",
              "13    27\n",
              "14    23\n",
              "15    17\n",
              "16    16\n",
              "Name: 최고값 , dtype: int64"
            ]
          },
          "metadata": {
            "tags": []
          },
          "execution_count": 48
        }
      ]
    },
    {
      "cell_type": "code",
      "metadata": {
        "id": "DxsgZnmASZ-V",
        "colab": {
          "base_uri": "https://localhost:8080/"
        },
        "outputId": "3d54296a-e0dd-44b0-a9b3-b232539b2e22"
      },
      "source": [
        "#열명의 공백 제거 \n",
        "df.columns = [item.strip() for item in df.columns]\n",
        "df.columns"
      ],
      "execution_count": 49,
      "outputs": [
        {
          "output_type": "execute_result",
          "data": {
            "text/plain": [
              "Index(['지역', '주간평균', '최고값', '최저값'], dtype='object')"
            ]
          },
          "metadata": {
            "tags": []
          },
          "execution_count": 49
        }
      ]
    },
    {
      "cell_type": "code",
      "metadata": {
        "colab": {
          "base_uri": "https://localhost:8080/"
        },
        "id": "inJJ6npAmjad",
        "outputId": "a2918608-c58b-4950-9f25-f8c27356af9e"
      },
      "source": [
        "df['최고값']"
      ],
      "execution_count": 51,
      "outputs": [
        {
          "output_type": "execute_result",
          "data": {
            "text/plain": [
              "0     22\n",
              "1     18\n",
              "2     18\n",
              "3     30\n",
              "4     23\n",
              "5     20\n",
              "6     16\n",
              "7     19\n",
              "8     27\n",
              "9     18\n",
              "10    26\n",
              "11    29\n",
              "12    30\n",
              "13    27\n",
              "14    23\n",
              "15    17\n",
              "16    16\n",
              "Name: 최고값, dtype: int64"
            ]
          },
          "metadata": {
            "tags": []
          },
          "execution_count": 51
        }
      ]
    },
    {
      "cell_type": "code",
      "metadata": {
        "colab": {
          "base_uri": "https://localhost:8080/",
          "height": 142
        },
        "id": "VIiDeKSCm09b",
        "outputId": "8aed044f-55e4-48b6-df7d-f0fef4a8f1e7"
      },
      "source": [
        "df.head(3)"
      ],
      "execution_count": 54,
      "outputs": [
        {
          "output_type": "execute_result",
          "data": {
            "text/html": [
              "<div>\n",
              "<style scoped>\n",
              "    .dataframe tbody tr th:only-of-type {\n",
              "        vertical-align: middle;\n",
              "    }\n",
              "\n",
              "    .dataframe tbody tr th {\n",
              "        vertical-align: top;\n",
              "    }\n",
              "\n",
              "    .dataframe thead th {\n",
              "        text-align: right;\n",
              "    }\n",
              "</style>\n",
              "<table border=\"1\" class=\"dataframe\">\n",
              "  <thead>\n",
              "    <tr style=\"text-align: right;\">\n",
              "      <th></th>\n",
              "      <th>지역</th>\n",
              "      <th>주간평균</th>\n",
              "      <th>최고값</th>\n",
              "      <th>최저값</th>\n",
              "    </tr>\n",
              "  </thead>\n",
              "  <tbody>\n",
              "    <tr>\n",
              "      <th>0</th>\n",
              "      <td>서울</td>\n",
              "      <td>20</td>\n",
              "      <td>22</td>\n",
              "      <td>16</td>\n",
              "    </tr>\n",
              "    <tr>\n",
              "      <th>1</th>\n",
              "      <td>부산</td>\n",
              "      <td>13</td>\n",
              "      <td>18</td>\n",
              "      <td>10</td>\n",
              "    </tr>\n",
              "    <tr>\n",
              "      <th>2</th>\n",
              "      <td>대구</td>\n",
              "      <td>15</td>\n",
              "      <td>18</td>\n",
              "      <td>11</td>\n",
              "    </tr>\n",
              "  </tbody>\n",
              "</table>\n",
              "</div>"
            ],
            "text/plain": [
              "   지역  주간평균  최고값  최저값\n",
              "0  서울    20   22   16\n",
              "1  부산    13   18   10\n",
              "2  대구    15   18   11"
            ]
          },
          "metadata": {
            "tags": []
          },
          "execution_count": 54
        }
      ]
    },
    {
      "cell_type": "code",
      "metadata": {
        "id": "SI96LxJ1UTrM",
        "colab": {
          "base_uri": "https://localhost:8080/",
          "height": 607
        },
        "outputId": "421a40e9-9302-4654-a8ba-f97dc018ce16"
      },
      "source": [
        "#지역 컬럼을 행 인덱스로 지정\n",
        "df = df.set_index('지역')\n",
        "df"
      ],
      "execution_count": 58,
      "outputs": [
        {
          "output_type": "execute_result",
          "data": {
            "text/html": [
              "<div>\n",
              "<style scoped>\n",
              "    .dataframe tbody tr th:only-of-type {\n",
              "        vertical-align: middle;\n",
              "    }\n",
              "\n",
              "    .dataframe tbody tr th {\n",
              "        vertical-align: top;\n",
              "    }\n",
              "\n",
              "    .dataframe thead th {\n",
              "        text-align: right;\n",
              "    }\n",
              "</style>\n",
              "<table border=\"1\" class=\"dataframe\">\n",
              "  <thead>\n",
              "    <tr style=\"text-align: right;\">\n",
              "      <th></th>\n",
              "      <th>주간평균</th>\n",
              "      <th>최고값</th>\n",
              "      <th>최저값</th>\n",
              "    </tr>\n",
              "    <tr>\n",
              "      <th>지역</th>\n",
              "      <th></th>\n",
              "      <th></th>\n",
              "      <th></th>\n",
              "    </tr>\n",
              "  </thead>\n",
              "  <tbody>\n",
              "    <tr>\n",
              "      <th>서울</th>\n",
              "      <td>20</td>\n",
              "      <td>22</td>\n",
              "      <td>16</td>\n",
              "    </tr>\n",
              "    <tr>\n",
              "      <th>부산</th>\n",
              "      <td>13</td>\n",
              "      <td>18</td>\n",
              "      <td>10</td>\n",
              "    </tr>\n",
              "    <tr>\n",
              "      <th>대구</th>\n",
              "      <td>15</td>\n",
              "      <td>18</td>\n",
              "      <td>11</td>\n",
              "    </tr>\n",
              "    <tr>\n",
              "      <th>인천</th>\n",
              "      <td>20</td>\n",
              "      <td>30</td>\n",
              "      <td>12</td>\n",
              "    </tr>\n",
              "    <tr>\n",
              "      <th>광주</th>\n",
              "      <td>19</td>\n",
              "      <td>23</td>\n",
              "      <td>15</td>\n",
              "    </tr>\n",
              "    <tr>\n",
              "      <th>대전</th>\n",
              "      <td>16</td>\n",
              "      <td>20</td>\n",
              "      <td>12</td>\n",
              "    </tr>\n",
              "    <tr>\n",
              "      <th>울산</th>\n",
              "      <td>14</td>\n",
              "      <td>16</td>\n",
              "      <td>11</td>\n",
              "    </tr>\n",
              "    <tr>\n",
              "      <th>세종</th>\n",
              "      <td>18</td>\n",
              "      <td>19</td>\n",
              "      <td>17</td>\n",
              "    </tr>\n",
              "    <tr>\n",
              "      <th>경기</th>\n",
              "      <td>20</td>\n",
              "      <td>27</td>\n",
              "      <td>13</td>\n",
              "    </tr>\n",
              "    <tr>\n",
              "      <th>강원</th>\n",
              "      <td>14</td>\n",
              "      <td>18</td>\n",
              "      <td>9</td>\n",
              "    </tr>\n",
              "    <tr>\n",
              "      <th>충북</th>\n",
              "      <td>19</td>\n",
              "      <td>26</td>\n",
              "      <td>14</td>\n",
              "    </tr>\n",
              "    <tr>\n",
              "      <th>충남</th>\n",
              "      <td>23</td>\n",
              "      <td>29</td>\n",
              "      <td>19</td>\n",
              "    </tr>\n",
              "    <tr>\n",
              "      <th>전북</th>\n",
              "      <td>23</td>\n",
              "      <td>30</td>\n",
              "      <td>14</td>\n",
              "    </tr>\n",
              "    <tr>\n",
              "      <th>전남</th>\n",
              "      <td>14</td>\n",
              "      <td>27</td>\n",
              "      <td>10</td>\n",
              "    </tr>\n",
              "    <tr>\n",
              "      <th>경북</th>\n",
              "      <td>15</td>\n",
              "      <td>23</td>\n",
              "      <td>8</td>\n",
              "    </tr>\n",
              "    <tr>\n",
              "      <th>경남</th>\n",
              "      <td>13</td>\n",
              "      <td>17</td>\n",
              "      <td>9</td>\n",
              "    </tr>\n",
              "    <tr>\n",
              "      <th>제주</th>\n",
              "      <td>14</td>\n",
              "      <td>16</td>\n",
              "      <td>11</td>\n",
              "    </tr>\n",
              "  </tbody>\n",
              "</table>\n",
              "</div>"
            ],
            "text/plain": [
              "    주간평균  최고값  최저값\n",
              "지역                \n",
              "서울    20   22   16\n",
              "부산    13   18   10\n",
              "대구    15   18   11\n",
              "인천    20   30   12\n",
              "광주    19   23   15\n",
              "대전    16   20   12\n",
              "울산    14   16   11\n",
              "세종    18   19   17\n",
              "경기    20   27   13\n",
              "강원    14   18    9\n",
              "충북    19   26   14\n",
              "충남    23   29   19\n",
              "전북    23   30   14\n",
              "전남    14   27   10\n",
              "경북    15   23    8\n",
              "경남    13   17    9\n",
              "제주    14   16   11"
            ]
          },
          "metadata": {
            "tags": []
          },
          "execution_count": 58
        }
      ]
    },
    {
      "cell_type": "code",
      "metadata": {
        "colab": {
          "base_uri": "https://localhost:8080/"
        },
        "id": "CLcIwNsmnOla",
        "outputId": "19ea04b4-97a2-481b-bc63-a22e553f0da4"
      },
      "source": [
        "df.index"
      ],
      "execution_count": 59,
      "outputs": [
        {
          "output_type": "execute_result",
          "data": {
            "text/plain": [
              "Index(['서울', '부산', '대구', '인천', '광주', '대전', '울산', '세종', '경기', '강원', '충북', '충남',\n",
              "       '전북', '전남', '경북', '경남', '제주'],\n",
              "      dtype='object', name='지역')"
            ]
          },
          "metadata": {
            "tags": []
          },
          "execution_count": 59
        }
      ]
    },
    {
      "cell_type": "code",
      "metadata": {
        "id": "4lb34DSsUm_8"
      },
      "source": [
        "#인덱스를 일반 데이터 열로 전환\n",
        "df = df.reset_index()\n",
        "df"
      ],
      "execution_count": null,
      "outputs": []
    },
    {
      "cell_type": "markdown",
      "metadata": {
        "id": "UO8Dw3XWxi97"
      },
      "source": [
        "## **데이터프레임 인덱싱(indexing)과 슬라이싱(slicing)**\n"
      ]
    },
    {
      "cell_type": "code",
      "metadata": {
        "id": "kDu43olQ6-t_"
      },
      "source": [
        "df = df.set_index('지역')\n",
        "df.head()"
      ],
      "execution_count": null,
      "outputs": []
    },
    {
      "cell_type": "markdown",
      "metadata": {
        "id": "Cj62A7iA2MuH"
      },
      "source": [
        "### df[]\n",
        " + 특정 열 가져오기 : df[열인덱스], df[열인덱스 리스트]\n",
        " + 특정 행 가져오기 : df[시작행인덱스:종료행인덱스]  "
      ]
    },
    {
      "cell_type": "code",
      "metadata": {
        "id": "y7CwJ-BjzTDe",
        "colab": {
          "base_uri": "https://localhost:8080/"
        },
        "outputId": "6f82352f-ebff-45cd-fae5-6e80bbb389d2"
      },
      "source": [
        "#특정 열 가져오기\n",
        "df['주간평균']"
      ],
      "execution_count": 62,
      "outputs": [
        {
          "output_type": "execute_result",
          "data": {
            "text/plain": [
              "지역\n",
              "서울    20\n",
              "부산    13\n",
              "대구    15\n",
              "인천    20\n",
              "광주    19\n",
              "대전    16\n",
              "울산    14\n",
              "세종    18\n",
              "경기    20\n",
              "강원    14\n",
              "충북    19\n",
              "충남    23\n",
              "전북    23\n",
              "전남    14\n",
              "경북    15\n",
              "경남    13\n",
              "제주    14\n",
              "Name: 주간평균, dtype: int64"
            ]
          },
          "metadata": {
            "tags": []
          },
          "execution_count": 62
        }
      ]
    },
    {
      "cell_type": "code",
      "metadata": {
        "id": "xCoa2WpIzZAn",
        "colab": {
          "base_uri": "https://localhost:8080/",
          "height": 607
        },
        "outputId": "56b8f290-c5a8-4713-d8bc-2d7f519f232d"
      },
      "source": [
        "df[['주간평균','최고값']]"
      ],
      "execution_count": 63,
      "outputs": [
        {
          "output_type": "execute_result",
          "data": {
            "text/html": [
              "<div>\n",
              "<style scoped>\n",
              "    .dataframe tbody tr th:only-of-type {\n",
              "        vertical-align: middle;\n",
              "    }\n",
              "\n",
              "    .dataframe tbody tr th {\n",
              "        vertical-align: top;\n",
              "    }\n",
              "\n",
              "    .dataframe thead th {\n",
              "        text-align: right;\n",
              "    }\n",
              "</style>\n",
              "<table border=\"1\" class=\"dataframe\">\n",
              "  <thead>\n",
              "    <tr style=\"text-align: right;\">\n",
              "      <th></th>\n",
              "      <th>주간평균</th>\n",
              "      <th>최고값</th>\n",
              "    </tr>\n",
              "    <tr>\n",
              "      <th>지역</th>\n",
              "      <th></th>\n",
              "      <th></th>\n",
              "    </tr>\n",
              "  </thead>\n",
              "  <tbody>\n",
              "    <tr>\n",
              "      <th>서울</th>\n",
              "      <td>20</td>\n",
              "      <td>22</td>\n",
              "    </tr>\n",
              "    <tr>\n",
              "      <th>부산</th>\n",
              "      <td>13</td>\n",
              "      <td>18</td>\n",
              "    </tr>\n",
              "    <tr>\n",
              "      <th>대구</th>\n",
              "      <td>15</td>\n",
              "      <td>18</td>\n",
              "    </tr>\n",
              "    <tr>\n",
              "      <th>인천</th>\n",
              "      <td>20</td>\n",
              "      <td>30</td>\n",
              "    </tr>\n",
              "    <tr>\n",
              "      <th>광주</th>\n",
              "      <td>19</td>\n",
              "      <td>23</td>\n",
              "    </tr>\n",
              "    <tr>\n",
              "      <th>대전</th>\n",
              "      <td>16</td>\n",
              "      <td>20</td>\n",
              "    </tr>\n",
              "    <tr>\n",
              "      <th>울산</th>\n",
              "      <td>14</td>\n",
              "      <td>16</td>\n",
              "    </tr>\n",
              "    <tr>\n",
              "      <th>세종</th>\n",
              "      <td>18</td>\n",
              "      <td>19</td>\n",
              "    </tr>\n",
              "    <tr>\n",
              "      <th>경기</th>\n",
              "      <td>20</td>\n",
              "      <td>27</td>\n",
              "    </tr>\n",
              "    <tr>\n",
              "      <th>강원</th>\n",
              "      <td>14</td>\n",
              "      <td>18</td>\n",
              "    </tr>\n",
              "    <tr>\n",
              "      <th>충북</th>\n",
              "      <td>19</td>\n",
              "      <td>26</td>\n",
              "    </tr>\n",
              "    <tr>\n",
              "      <th>충남</th>\n",
              "      <td>23</td>\n",
              "      <td>29</td>\n",
              "    </tr>\n",
              "    <tr>\n",
              "      <th>전북</th>\n",
              "      <td>23</td>\n",
              "      <td>30</td>\n",
              "    </tr>\n",
              "    <tr>\n",
              "      <th>전남</th>\n",
              "      <td>14</td>\n",
              "      <td>27</td>\n",
              "    </tr>\n",
              "    <tr>\n",
              "      <th>경북</th>\n",
              "      <td>15</td>\n",
              "      <td>23</td>\n",
              "    </tr>\n",
              "    <tr>\n",
              "      <th>경남</th>\n",
              "      <td>13</td>\n",
              "      <td>17</td>\n",
              "    </tr>\n",
              "    <tr>\n",
              "      <th>제주</th>\n",
              "      <td>14</td>\n",
              "      <td>16</td>\n",
              "    </tr>\n",
              "  </tbody>\n",
              "</table>\n",
              "</div>"
            ],
            "text/plain": [
              "    주간평균  최고값\n",
              "지역           \n",
              "서울    20   22\n",
              "부산    13   18\n",
              "대구    15   18\n",
              "인천    20   30\n",
              "광주    19   23\n",
              "대전    16   20\n",
              "울산    14   16\n",
              "세종    18   19\n",
              "경기    20   27\n",
              "강원    14   18\n",
              "충북    19   26\n",
              "충남    23   29\n",
              "전북    23   30\n",
              "전남    14   27\n",
              "경북    15   23\n",
              "경남    13   17\n",
              "제주    14   16"
            ]
          },
          "metadata": {
            "tags": []
          },
          "execution_count": 63
        }
      ]
    },
    {
      "cell_type": "code",
      "metadata": {
        "id": "Wm0TBqD42hKZ",
        "colab": {
          "base_uri": "https://localhost:8080/",
          "height": 173
        },
        "outputId": "6d74ccf6-1d2f-4611-94cf-f696015a286d"
      },
      "source": [
        "#특정행 가져오기\n",
        "df['부산':'인천']"
      ],
      "execution_count": 66,
      "outputs": [
        {
          "output_type": "execute_result",
          "data": {
            "text/html": [
              "<div>\n",
              "<style scoped>\n",
              "    .dataframe tbody tr th:only-of-type {\n",
              "        vertical-align: middle;\n",
              "    }\n",
              "\n",
              "    .dataframe tbody tr th {\n",
              "        vertical-align: top;\n",
              "    }\n",
              "\n",
              "    .dataframe thead th {\n",
              "        text-align: right;\n",
              "    }\n",
              "</style>\n",
              "<table border=\"1\" class=\"dataframe\">\n",
              "  <thead>\n",
              "    <tr style=\"text-align: right;\">\n",
              "      <th></th>\n",
              "      <th>주간평균</th>\n",
              "      <th>최고값</th>\n",
              "      <th>최저값</th>\n",
              "    </tr>\n",
              "    <tr>\n",
              "      <th>지역</th>\n",
              "      <th></th>\n",
              "      <th></th>\n",
              "      <th></th>\n",
              "    </tr>\n",
              "  </thead>\n",
              "  <tbody>\n",
              "    <tr>\n",
              "      <th>부산</th>\n",
              "      <td>13</td>\n",
              "      <td>18</td>\n",
              "      <td>10</td>\n",
              "    </tr>\n",
              "    <tr>\n",
              "      <th>대구</th>\n",
              "      <td>15</td>\n",
              "      <td>18</td>\n",
              "      <td>11</td>\n",
              "    </tr>\n",
              "    <tr>\n",
              "      <th>인천</th>\n",
              "      <td>20</td>\n",
              "      <td>30</td>\n",
              "      <td>12</td>\n",
              "    </tr>\n",
              "  </tbody>\n",
              "</table>\n",
              "</div>"
            ],
            "text/plain": [
              "    주간평균  최고값  최저값\n",
              "지역                \n",
              "부산    13   18   10\n",
              "대구    15   18   11\n",
              "인천    20   30   12"
            ]
          },
          "metadata": {
            "tags": []
          },
          "execution_count": 66
        }
      ]
    },
    {
      "cell_type": "markdown",
      "metadata": {
        "id": "OQkafCZj21TB"
      },
      "source": [
        "### df.loc[행인덱스, 열인덱스]\n",
        "* 특정 열 가져오기 : df.loc[:, 열인덱스]\n",
        "* 특정 행 가져오기 : df.loc[행인덱스, :]\n",
        "* 특정 항목 가져오기 : df.loc[행인덱스, 열인덱스]"
      ]
    },
    {
      "cell_type": "code",
      "metadata": {
        "colab": {
          "base_uri": "https://localhost:8080/",
          "height": 235
        },
        "id": "T4Jmw2irpahc",
        "outputId": "d2a7fe4a-bae9-47db-dcf9-85d2d8d1ac52"
      },
      "source": [
        "df.head()"
      ],
      "execution_count": 67,
      "outputs": [
        {
          "output_type": "execute_result",
          "data": {
            "text/html": [
              "<div>\n",
              "<style scoped>\n",
              "    .dataframe tbody tr th:only-of-type {\n",
              "        vertical-align: middle;\n",
              "    }\n",
              "\n",
              "    .dataframe tbody tr th {\n",
              "        vertical-align: top;\n",
              "    }\n",
              "\n",
              "    .dataframe thead th {\n",
              "        text-align: right;\n",
              "    }\n",
              "</style>\n",
              "<table border=\"1\" class=\"dataframe\">\n",
              "  <thead>\n",
              "    <tr style=\"text-align: right;\">\n",
              "      <th></th>\n",
              "      <th>주간평균</th>\n",
              "      <th>최고값</th>\n",
              "      <th>최저값</th>\n",
              "    </tr>\n",
              "    <tr>\n",
              "      <th>지역</th>\n",
              "      <th></th>\n",
              "      <th></th>\n",
              "      <th></th>\n",
              "    </tr>\n",
              "  </thead>\n",
              "  <tbody>\n",
              "    <tr>\n",
              "      <th>서울</th>\n",
              "      <td>20</td>\n",
              "      <td>22</td>\n",
              "      <td>16</td>\n",
              "    </tr>\n",
              "    <tr>\n",
              "      <th>부산</th>\n",
              "      <td>13</td>\n",
              "      <td>18</td>\n",
              "      <td>10</td>\n",
              "    </tr>\n",
              "    <tr>\n",
              "      <th>대구</th>\n",
              "      <td>15</td>\n",
              "      <td>18</td>\n",
              "      <td>11</td>\n",
              "    </tr>\n",
              "    <tr>\n",
              "      <th>인천</th>\n",
              "      <td>20</td>\n",
              "      <td>30</td>\n",
              "      <td>12</td>\n",
              "    </tr>\n",
              "    <tr>\n",
              "      <th>광주</th>\n",
              "      <td>19</td>\n",
              "      <td>23</td>\n",
              "      <td>15</td>\n",
              "    </tr>\n",
              "  </tbody>\n",
              "</table>\n",
              "</div>"
            ],
            "text/plain": [
              "    주간평균  최고값  최저값\n",
              "지역                \n",
              "서울    20   22   16\n",
              "부산    13   18   10\n",
              "대구    15   18   11\n",
              "인천    20   30   12\n",
              "광주    19   23   15"
            ]
          },
          "metadata": {
            "tags": []
          },
          "execution_count": 67
        }
      ]
    },
    {
      "cell_type": "code",
      "metadata": {
        "colab": {
          "base_uri": "https://localhost:8080/",
          "height": 607
        },
        "id": "5L7X42AApdxX",
        "outputId": "cdbb31d0-2dde-4531-8fda-f2e7cec738cd"
      },
      "source": [
        "df[['최저값']]"
      ],
      "execution_count": 70,
      "outputs": [
        {
          "output_type": "execute_result",
          "data": {
            "text/html": [
              "<div>\n",
              "<style scoped>\n",
              "    .dataframe tbody tr th:only-of-type {\n",
              "        vertical-align: middle;\n",
              "    }\n",
              "\n",
              "    .dataframe tbody tr th {\n",
              "        vertical-align: top;\n",
              "    }\n",
              "\n",
              "    .dataframe thead th {\n",
              "        text-align: right;\n",
              "    }\n",
              "</style>\n",
              "<table border=\"1\" class=\"dataframe\">\n",
              "  <thead>\n",
              "    <tr style=\"text-align: right;\">\n",
              "      <th></th>\n",
              "      <th>최저값</th>\n",
              "    </tr>\n",
              "    <tr>\n",
              "      <th>지역</th>\n",
              "      <th></th>\n",
              "    </tr>\n",
              "  </thead>\n",
              "  <tbody>\n",
              "    <tr>\n",
              "      <th>서울</th>\n",
              "      <td>16</td>\n",
              "    </tr>\n",
              "    <tr>\n",
              "      <th>부산</th>\n",
              "      <td>10</td>\n",
              "    </tr>\n",
              "    <tr>\n",
              "      <th>대구</th>\n",
              "      <td>11</td>\n",
              "    </tr>\n",
              "    <tr>\n",
              "      <th>인천</th>\n",
              "      <td>12</td>\n",
              "    </tr>\n",
              "    <tr>\n",
              "      <th>광주</th>\n",
              "      <td>15</td>\n",
              "    </tr>\n",
              "    <tr>\n",
              "      <th>대전</th>\n",
              "      <td>12</td>\n",
              "    </tr>\n",
              "    <tr>\n",
              "      <th>울산</th>\n",
              "      <td>11</td>\n",
              "    </tr>\n",
              "    <tr>\n",
              "      <th>세종</th>\n",
              "      <td>17</td>\n",
              "    </tr>\n",
              "    <tr>\n",
              "      <th>경기</th>\n",
              "      <td>13</td>\n",
              "    </tr>\n",
              "    <tr>\n",
              "      <th>강원</th>\n",
              "      <td>9</td>\n",
              "    </tr>\n",
              "    <tr>\n",
              "      <th>충북</th>\n",
              "      <td>14</td>\n",
              "    </tr>\n",
              "    <tr>\n",
              "      <th>충남</th>\n",
              "      <td>19</td>\n",
              "    </tr>\n",
              "    <tr>\n",
              "      <th>전북</th>\n",
              "      <td>14</td>\n",
              "    </tr>\n",
              "    <tr>\n",
              "      <th>전남</th>\n",
              "      <td>10</td>\n",
              "    </tr>\n",
              "    <tr>\n",
              "      <th>경북</th>\n",
              "      <td>8</td>\n",
              "    </tr>\n",
              "    <tr>\n",
              "      <th>경남</th>\n",
              "      <td>9</td>\n",
              "    </tr>\n",
              "    <tr>\n",
              "      <th>제주</th>\n",
              "      <td>11</td>\n",
              "    </tr>\n",
              "  </tbody>\n",
              "</table>\n",
              "</div>"
            ],
            "text/plain": [
              "    최저값\n",
              "지역     \n",
              "서울   16\n",
              "부산   10\n",
              "대구   11\n",
              "인천   12\n",
              "광주   15\n",
              "대전   12\n",
              "울산   11\n",
              "세종   17\n",
              "경기   13\n",
              "강원    9\n",
              "충북   14\n",
              "충남   19\n",
              "전북   14\n",
              "전남   10\n",
              "경북    8\n",
              "경남    9\n",
              "제주   11"
            ]
          },
          "metadata": {
            "tags": []
          },
          "execution_count": 70
        }
      ]
    },
    {
      "cell_type": "code",
      "metadata": {
        "id": "ur3fWQue4mkE",
        "colab": {
          "base_uri": "https://localhost:8080/"
        },
        "outputId": "3c8f9a3e-9f81-4b37-fdc0-84c3ce7ebb45"
      },
      "source": [
        "#특정 열 가져오기\n",
        "df.loc[:, '최저값'] "
      ],
      "execution_count": 71,
      "outputs": [
        {
          "output_type": "execute_result",
          "data": {
            "text/plain": [
              "지역\n",
              "서울    16\n",
              "부산    10\n",
              "대구    11\n",
              "인천    12\n",
              "광주    15\n",
              "대전    12\n",
              "울산    11\n",
              "세종    17\n",
              "경기    13\n",
              "강원     9\n",
              "충북    14\n",
              "충남    19\n",
              "전북    14\n",
              "전남    10\n",
              "경북     8\n",
              "경남     9\n",
              "제주    11\n",
              "Name: 최저값, dtype: int64"
            ]
          },
          "metadata": {
            "tags": []
          },
          "execution_count": 71
        }
      ]
    },
    {
      "cell_type": "code",
      "metadata": {
        "id": "pTfKZPju4s8N"
      },
      "source": [
        "df.loc[:, ['주간평균', '최저값']]"
      ],
      "execution_count": null,
      "outputs": []
    },
    {
      "cell_type": "code",
      "metadata": {
        "id": "4LCD_xQ340Ai"
      },
      "source": [
        "df.loc[:, '주간평균':'최저값']"
      ],
      "execution_count": null,
      "outputs": []
    },
    {
      "cell_type": "code",
      "metadata": {
        "id": "PvhrPBZp49jO",
        "colab": {
          "base_uri": "https://localhost:8080/"
        },
        "outputId": "ac8fb431-8c9e-45c0-dd48-a9b054eb6a37"
      },
      "source": [
        "#특정 행 가져오기\n",
        "df.loc['부산',:]"
      ],
      "execution_count": 73,
      "outputs": [
        {
          "output_type": "execute_result",
          "data": {
            "text/plain": [
              "주간평균    13\n",
              "최고값     18\n",
              "최저값     10\n",
              "Name: 부산, dtype: int64"
            ]
          },
          "metadata": {
            "tags": []
          },
          "execution_count": 73
        }
      ]
    },
    {
      "cell_type": "code",
      "metadata": {
        "id": "XAy3Zu3G5Pj3",
        "colab": {
          "base_uri": "https://localhost:8080/",
          "height": 142
        },
        "outputId": "c09c0ada-3b59-401a-cfb7-4fb4ed4ddb88"
      },
      "source": [
        "df.loc[['부산', '인천'], :]"
      ],
      "execution_count": 74,
      "outputs": [
        {
          "output_type": "execute_result",
          "data": {
            "text/html": [
              "<div>\n",
              "<style scoped>\n",
              "    .dataframe tbody tr th:only-of-type {\n",
              "        vertical-align: middle;\n",
              "    }\n",
              "\n",
              "    .dataframe tbody tr th {\n",
              "        vertical-align: top;\n",
              "    }\n",
              "\n",
              "    .dataframe thead th {\n",
              "        text-align: right;\n",
              "    }\n",
              "</style>\n",
              "<table border=\"1\" class=\"dataframe\">\n",
              "  <thead>\n",
              "    <tr style=\"text-align: right;\">\n",
              "      <th></th>\n",
              "      <th>주간평균</th>\n",
              "      <th>최고값</th>\n",
              "      <th>최저값</th>\n",
              "    </tr>\n",
              "    <tr>\n",
              "      <th>지역</th>\n",
              "      <th></th>\n",
              "      <th></th>\n",
              "      <th></th>\n",
              "    </tr>\n",
              "  </thead>\n",
              "  <tbody>\n",
              "    <tr>\n",
              "      <th>부산</th>\n",
              "      <td>13</td>\n",
              "      <td>18</td>\n",
              "      <td>10</td>\n",
              "    </tr>\n",
              "    <tr>\n",
              "      <th>인천</th>\n",
              "      <td>20</td>\n",
              "      <td>30</td>\n",
              "      <td>12</td>\n",
              "    </tr>\n",
              "  </tbody>\n",
              "</table>\n",
              "</div>"
            ],
            "text/plain": [
              "    주간평균  최고값  최저값\n",
              "지역                \n",
              "부산    13   18   10\n",
              "인천    20   30   12"
            ]
          },
          "metadata": {
            "tags": []
          },
          "execution_count": 74
        }
      ]
    },
    {
      "cell_type": "code",
      "metadata": {
        "id": "fvfrg_sp5DjV",
        "colab": {
          "base_uri": "https://localhost:8080/",
          "height": 173
        },
        "outputId": "7f0ac6cf-7416-42bc-8682-2f60459108e4"
      },
      "source": [
        "df.loc['부산':'인천', :]"
      ],
      "execution_count": 75,
      "outputs": [
        {
          "output_type": "execute_result",
          "data": {
            "text/html": [
              "<div>\n",
              "<style scoped>\n",
              "    .dataframe tbody tr th:only-of-type {\n",
              "        vertical-align: middle;\n",
              "    }\n",
              "\n",
              "    .dataframe tbody tr th {\n",
              "        vertical-align: top;\n",
              "    }\n",
              "\n",
              "    .dataframe thead th {\n",
              "        text-align: right;\n",
              "    }\n",
              "</style>\n",
              "<table border=\"1\" class=\"dataframe\">\n",
              "  <thead>\n",
              "    <tr style=\"text-align: right;\">\n",
              "      <th></th>\n",
              "      <th>주간평균</th>\n",
              "      <th>최고값</th>\n",
              "      <th>최저값</th>\n",
              "    </tr>\n",
              "    <tr>\n",
              "      <th>지역</th>\n",
              "      <th></th>\n",
              "      <th></th>\n",
              "      <th></th>\n",
              "    </tr>\n",
              "  </thead>\n",
              "  <tbody>\n",
              "    <tr>\n",
              "      <th>부산</th>\n",
              "      <td>13</td>\n",
              "      <td>18</td>\n",
              "      <td>10</td>\n",
              "    </tr>\n",
              "    <tr>\n",
              "      <th>대구</th>\n",
              "      <td>15</td>\n",
              "      <td>18</td>\n",
              "      <td>11</td>\n",
              "    </tr>\n",
              "    <tr>\n",
              "      <th>인천</th>\n",
              "      <td>20</td>\n",
              "      <td>30</td>\n",
              "      <td>12</td>\n",
              "    </tr>\n",
              "  </tbody>\n",
              "</table>\n",
              "</div>"
            ],
            "text/plain": [
              "    주간평균  최고값  최저값\n",
              "지역                \n",
              "부산    13   18   10\n",
              "대구    15   18   11\n",
              "인천    20   30   12"
            ]
          },
          "metadata": {
            "tags": []
          },
          "execution_count": 75
        }
      ]
    },
    {
      "cell_type": "code",
      "metadata": {
        "id": "JaH23lSz5U1q",
        "colab": {
          "base_uri": "https://localhost:8080/"
        },
        "outputId": "35eae900-c620-41f1-94a0-2c793a5bd300"
      },
      "source": [
        "#특정 항목 가져오기\n",
        "df.loc['부산', '주간평균']"
      ],
      "execution_count": 76,
      "outputs": [
        {
          "output_type": "execute_result",
          "data": {
            "text/plain": [
              "13"
            ]
          },
          "metadata": {
            "tags": []
          },
          "execution_count": 76
        }
      ]
    },
    {
      "cell_type": "code",
      "metadata": {
        "id": "JzZvoYtp5d_X",
        "colab": {
          "base_uri": "https://localhost:8080/",
          "height": 142
        },
        "outputId": "9c0e6f96-03a0-41f0-83e5-b750b1c6a7ce"
      },
      "source": [
        "df.loc[['부산','인천'],['주간평균', '최저값']]"
      ],
      "execution_count": 77,
      "outputs": [
        {
          "output_type": "execute_result",
          "data": {
            "text/html": [
              "<div>\n",
              "<style scoped>\n",
              "    .dataframe tbody tr th:only-of-type {\n",
              "        vertical-align: middle;\n",
              "    }\n",
              "\n",
              "    .dataframe tbody tr th {\n",
              "        vertical-align: top;\n",
              "    }\n",
              "\n",
              "    .dataframe thead th {\n",
              "        text-align: right;\n",
              "    }\n",
              "</style>\n",
              "<table border=\"1\" class=\"dataframe\">\n",
              "  <thead>\n",
              "    <tr style=\"text-align: right;\">\n",
              "      <th></th>\n",
              "      <th>주간평균</th>\n",
              "      <th>최저값</th>\n",
              "    </tr>\n",
              "    <tr>\n",
              "      <th>지역</th>\n",
              "      <th></th>\n",
              "      <th></th>\n",
              "    </tr>\n",
              "  </thead>\n",
              "  <tbody>\n",
              "    <tr>\n",
              "      <th>부산</th>\n",
              "      <td>13</td>\n",
              "      <td>10</td>\n",
              "    </tr>\n",
              "    <tr>\n",
              "      <th>인천</th>\n",
              "      <td>20</td>\n",
              "      <td>12</td>\n",
              "    </tr>\n",
              "  </tbody>\n",
              "</table>\n",
              "</div>"
            ],
            "text/plain": [
              "    주간평균  최저값\n",
              "지역           \n",
              "부산    13   10\n",
              "인천    20   12"
            ]
          },
          "metadata": {
            "tags": []
          },
          "execution_count": 77
        }
      ]
    },
    {
      "cell_type": "code",
      "metadata": {
        "id": "_Ec3ZWyu5kVA",
        "colab": {
          "base_uri": "https://localhost:8080/",
          "height": 173
        },
        "outputId": "ab56f482-b86f-4992-8cda-72f8df41b2ca"
      },
      "source": [
        "df.loc['부산':'인천','주간평균':'최저값']"
      ],
      "execution_count": 78,
      "outputs": [
        {
          "output_type": "execute_result",
          "data": {
            "text/html": [
              "<div>\n",
              "<style scoped>\n",
              "    .dataframe tbody tr th:only-of-type {\n",
              "        vertical-align: middle;\n",
              "    }\n",
              "\n",
              "    .dataframe tbody tr th {\n",
              "        vertical-align: top;\n",
              "    }\n",
              "\n",
              "    .dataframe thead th {\n",
              "        text-align: right;\n",
              "    }\n",
              "</style>\n",
              "<table border=\"1\" class=\"dataframe\">\n",
              "  <thead>\n",
              "    <tr style=\"text-align: right;\">\n",
              "      <th></th>\n",
              "      <th>주간평균</th>\n",
              "      <th>최고값</th>\n",
              "      <th>최저값</th>\n",
              "    </tr>\n",
              "    <tr>\n",
              "      <th>지역</th>\n",
              "      <th></th>\n",
              "      <th></th>\n",
              "      <th></th>\n",
              "    </tr>\n",
              "  </thead>\n",
              "  <tbody>\n",
              "    <tr>\n",
              "      <th>부산</th>\n",
              "      <td>13</td>\n",
              "      <td>18</td>\n",
              "      <td>10</td>\n",
              "    </tr>\n",
              "    <tr>\n",
              "      <th>대구</th>\n",
              "      <td>15</td>\n",
              "      <td>18</td>\n",
              "      <td>11</td>\n",
              "    </tr>\n",
              "    <tr>\n",
              "      <th>인천</th>\n",
              "      <td>20</td>\n",
              "      <td>30</td>\n",
              "      <td>12</td>\n",
              "    </tr>\n",
              "  </tbody>\n",
              "</table>\n",
              "</div>"
            ],
            "text/plain": [
              "    주간평균  최고값  최저값\n",
              "지역                \n",
              "부산    13   18   10\n",
              "대구    15   18   11\n",
              "인천    20   30   12"
            ]
          },
          "metadata": {
            "tags": []
          },
          "execution_count": 78
        }
      ]
    },
    {
      "cell_type": "code",
      "metadata": {
        "colab": {
          "base_uri": "https://localhost:8080/",
          "height": 111
        },
        "id": "gzRu6sGVqUlE",
        "outputId": "05863759-2cd3-44b6-af89-99fc4a551b7c"
      },
      "source": [
        "df.loc[['울산'],['주간평균','최저값']]"
      ],
      "execution_count": 80,
      "outputs": [
        {
          "output_type": "execute_result",
          "data": {
            "text/html": [
              "<div>\n",
              "<style scoped>\n",
              "    .dataframe tbody tr th:only-of-type {\n",
              "        vertical-align: middle;\n",
              "    }\n",
              "\n",
              "    .dataframe tbody tr th {\n",
              "        vertical-align: top;\n",
              "    }\n",
              "\n",
              "    .dataframe thead th {\n",
              "        text-align: right;\n",
              "    }\n",
              "</style>\n",
              "<table border=\"1\" class=\"dataframe\">\n",
              "  <thead>\n",
              "    <tr style=\"text-align: right;\">\n",
              "      <th></th>\n",
              "      <th>주간평균</th>\n",
              "      <th>최저값</th>\n",
              "    </tr>\n",
              "    <tr>\n",
              "      <th>지역</th>\n",
              "      <th></th>\n",
              "      <th></th>\n",
              "    </tr>\n",
              "  </thead>\n",
              "  <tbody>\n",
              "    <tr>\n",
              "      <th>울산</th>\n",
              "      <td>14</td>\n",
              "      <td>11</td>\n",
              "    </tr>\n",
              "  </tbody>\n",
              "</table>\n",
              "</div>"
            ],
            "text/plain": [
              "    주간평균  최저값\n",
              "지역           \n",
              "울산    14   11"
            ]
          },
          "metadata": {
            "tags": []
          },
          "execution_count": 80
        }
      ]
    },
    {
      "cell_type": "markdown",
      "metadata": {
        "id": "9vn-EO9V58vy"
      },
      "source": [
        "### df.iloc[행인덱스순서, 열인덱스순서]\n",
        "* 특정 열 가져오기 : df.loc[:, 열인덱스순서]\n",
        "* 특정 행 가져오기 : df.loc[행인덱스순서, :]\n",
        "* 특정 항목 가져오기 : df.loc[행인덱스순서, 열인덱스순서]"
      ]
    },
    {
      "cell_type": "code",
      "metadata": {
        "colab": {
          "base_uri": "https://localhost:8080/"
        },
        "id": "PFf4wdFOrflY",
        "outputId": "8127f39b-279f-4edd-9fb0-9dadd458af6a"
      },
      "source": [
        "df.index"
      ],
      "execution_count": 81,
      "outputs": [
        {
          "output_type": "execute_result",
          "data": {
            "text/plain": [
              "Index(['서울', '부산', '대구', '인천', '광주', '대전', '울산', '세종', '경기', '강원', '충북', '충남',\n",
              "       '전북', '전남', '경북', '경남', '제주'],\n",
              "      dtype='object', name='지역')"
            ]
          },
          "metadata": {
            "tags": []
          },
          "execution_count": 81
        }
      ]
    },
    {
      "cell_type": "code",
      "metadata": {
        "colab": {
          "base_uri": "https://localhost:8080/"
        },
        "id": "FmQHtGqiriwU",
        "outputId": "86de6a80-7fc4-42ab-9cb3-0ae97600f963"
      },
      "source": [
        "df.columns"
      ],
      "execution_count": 82,
      "outputs": [
        {
          "output_type": "execute_result",
          "data": {
            "text/plain": [
              "Index(['주간평균', '최고값', '최저값'], dtype='object')"
            ]
          },
          "metadata": {
            "tags": []
          },
          "execution_count": 82
        }
      ]
    },
    {
      "cell_type": "code",
      "metadata": {
        "id": "gO8u92nq6Wwe"
      },
      "source": [
        "#특정 열 가져오기\n",
        "#df.loc[:, '최저값'] \n",
        "df.iloc[:, 2]"
      ],
      "execution_count": null,
      "outputs": []
    },
    {
      "cell_type": "code",
      "metadata": {
        "id": "JLqavk_Q6dSJ"
      },
      "source": [
        "#df.loc[:, ['주간평균', '최저값']]\n",
        "df.iloc[:, [0, 2]]"
      ],
      "execution_count": null,
      "outputs": []
    },
    {
      "cell_type": "code",
      "metadata": {
        "id": "hiV1UrDQ6lNJ"
      },
      "source": [
        "#df.loc[:, '주간평균':'최저값']\n",
        "df.iloc[:, 0:2]"
      ],
      "execution_count": null,
      "outputs": []
    },
    {
      "cell_type": "code",
      "metadata": {
        "id": "0eKovdGO6xxy"
      },
      "source": [
        "#특정 행 가져오기\n",
        "#df.loc['부산',:]\n",
        "df.iloc[1,:]"
      ],
      "execution_count": null,
      "outputs": []
    },
    {
      "cell_type": "code",
      "metadata": {
        "id": "fQt4kZCR63yx"
      },
      "source": [
        "#df.loc[['부산', '인천'], :]\n",
        "df.iloc[[1, 3], :]"
      ],
      "execution_count": null,
      "outputs": []
    },
    {
      "cell_type": "code",
      "metadata": {
        "id": "8sSgV4QzAGZS"
      },
      "source": [
        "#df.loc['부산':'인천', :]\n",
        "df.iloc[1:4, :]"
      ],
      "execution_count": null,
      "outputs": []
    },
    {
      "cell_type": "code",
      "metadata": {
        "id": "xweF6XzvAIVR"
      },
      "source": [
        "#특정 항목 가져오기\n",
        "#df.loc['부산', '주간평균']\n",
        "df.iloc[1, 0]"
      ],
      "execution_count": null,
      "outputs": []
    },
    {
      "cell_type": "code",
      "metadata": {
        "id": "nhAX9CKmAJ0N"
      },
      "source": [
        "#df.loc[['부산','인천'],['주간평균', '최저값']]\n",
        "df.iloc[[0,3],[0, 2]]"
      ],
      "execution_count": null,
      "outputs": []
    },
    {
      "cell_type": "code",
      "metadata": {
        "id": "V-HoJIUAAMm-"
      },
      "source": [
        "#df.loc['부산':'인천','주간평균':'최저값']\n",
        "df.iloc[1:4,0:3]"
      ],
      "execution_count": null,
      "outputs": []
    },
    {
      "cell_type": "markdown",
      "metadata": {
        "id": "vvpKts0-Bd-U"
      },
      "source": [
        "## **데이터프레임(DataFrame) 기본 조회와 기초 통계 메소드**\n",
        "* head(n) : 상위 n개 조회, n생략 시 5개 조회\n",
        "+ tail(n) : 하위 n개 조회, n생략 시 5개 조회\n",
        "+ describe() : 요약 통계량 계산\n",
        "+ mean() : 평균\n",
        "+ max() : 최대\n",
        "+ min() : 최소\n",
        "+ std()  : 표준편차"
      ]
    },
    {
      "cell_type": "code",
      "metadata": {
        "id": "Xl1QlqoKCdag"
      },
      "source": [
        "df.head(2)"
      ],
      "execution_count": null,
      "outputs": []
    },
    {
      "cell_type": "code",
      "metadata": {
        "id": "bSbGKI_8CdYN"
      },
      "source": [
        "df.tail(2)"
      ],
      "execution_count": null,
      "outputs": []
    },
    {
      "cell_type": "code",
      "metadata": {
        "id": "AFi0th9aCsbf",
        "colab": {
          "base_uri": "https://localhost:8080/",
          "height": 297
        },
        "outputId": "904c39ae-33b7-4c7d-ea15-b195dcb90d15"
      },
      "source": [
        "df.describe()"
      ],
      "execution_count": 85,
      "outputs": [
        {
          "output_type": "execute_result",
          "data": {
            "text/html": [
              "<div>\n",
              "<style scoped>\n",
              "    .dataframe tbody tr th:only-of-type {\n",
              "        vertical-align: middle;\n",
              "    }\n",
              "\n",
              "    .dataframe tbody tr th {\n",
              "        vertical-align: top;\n",
              "    }\n",
              "\n",
              "    .dataframe thead th {\n",
              "        text-align: right;\n",
              "    }\n",
              "</style>\n",
              "<table border=\"1\" class=\"dataframe\">\n",
              "  <thead>\n",
              "    <tr style=\"text-align: right;\">\n",
              "      <th></th>\n",
              "      <th>주간평균</th>\n",
              "      <th>최고값</th>\n",
              "      <th>최저값</th>\n",
              "    </tr>\n",
              "  </thead>\n",
              "  <tbody>\n",
              "    <tr>\n",
              "      <th>count</th>\n",
              "      <td>17.000000</td>\n",
              "      <td>17.000000</td>\n",
              "      <td>17.000000</td>\n",
              "    </tr>\n",
              "    <tr>\n",
              "      <th>mean</th>\n",
              "      <td>17.058824</td>\n",
              "      <td>22.294118</td>\n",
              "      <td>12.411765</td>\n",
              "    </tr>\n",
              "    <tr>\n",
              "      <th>std</th>\n",
              "      <td>3.399827</td>\n",
              "      <td>5.009550</td>\n",
              "      <td>3.063063</td>\n",
              "    </tr>\n",
              "    <tr>\n",
              "      <th>min</th>\n",
              "      <td>13.000000</td>\n",
              "      <td>16.000000</td>\n",
              "      <td>8.000000</td>\n",
              "    </tr>\n",
              "    <tr>\n",
              "      <th>25%</th>\n",
              "      <td>14.000000</td>\n",
              "      <td>18.000000</td>\n",
              "      <td>10.000000</td>\n",
              "    </tr>\n",
              "    <tr>\n",
              "      <th>50%</th>\n",
              "      <td>16.000000</td>\n",
              "      <td>22.000000</td>\n",
              "      <td>12.000000</td>\n",
              "    </tr>\n",
              "    <tr>\n",
              "      <th>75%</th>\n",
              "      <td>20.000000</td>\n",
              "      <td>27.000000</td>\n",
              "      <td>14.000000</td>\n",
              "    </tr>\n",
              "    <tr>\n",
              "      <th>max</th>\n",
              "      <td>23.000000</td>\n",
              "      <td>30.000000</td>\n",
              "      <td>19.000000</td>\n",
              "    </tr>\n",
              "  </tbody>\n",
              "</table>\n",
              "</div>"
            ],
            "text/plain": [
              "            주간평균        최고값        최저값\n",
              "count  17.000000  17.000000  17.000000\n",
              "mean   17.058824  22.294118  12.411765\n",
              "std     3.399827   5.009550   3.063063\n",
              "min    13.000000  16.000000   8.000000\n",
              "25%    14.000000  18.000000  10.000000\n",
              "50%    16.000000  22.000000  12.000000\n",
              "75%    20.000000  27.000000  14.000000\n",
              "max    23.000000  30.000000  19.000000"
            ]
          },
          "metadata": {
            "tags": []
          },
          "execution_count": 85
        }
      ]
    },
    {
      "cell_type": "markdown",
      "metadata": {
        "id": "H_xl7uLIEn_c"
      },
      "source": [
        "## 자주사용되는 메소드\n"
      ]
    },
    {
      "cell_type": "markdown",
      "metadata": {
        "id": "w6drZtA7rbMk"
      },
      "source": [
        "### 행열 전환 : df.T\n"
      ]
    },
    {
      "cell_type": "code",
      "metadata": {
        "id": "7sooCeH0rAtu"
      },
      "source": [
        "df2 = df.T\n",
        "df2"
      ],
      "execution_count": null,
      "outputs": []
    },
    {
      "cell_type": "markdown",
      "metadata": {
        "id": "fUaPuiV5rUpB"
      },
      "source": [
        ""
      ]
    },
    {
      "cell_type": "markdown",
      "metadata": {
        "id": "k48MohOerccD"
      },
      "source": [
        "### 정렬\n",
        "+ 행열 인덱스 정렬 : df.sort_index(axis=n), n생략 또는 0:행, 1:열\n",
        "+ 행렬 값 정렬 : df.sort_values()\n"
      ]
    },
    {
      "cell_type": "code",
      "metadata": {
        "id": "JWafEXHzrMMP",
        "colab": {
          "base_uri": "https://localhost:8080/",
          "height": 607
        },
        "outputId": "665f8160-0632-4541-91c2-82dd36c752a0"
      },
      "source": [
        "df"
      ],
      "execution_count": 91,
      "outputs": [
        {
          "output_type": "execute_result",
          "data": {
            "text/html": [
              "<div>\n",
              "<style scoped>\n",
              "    .dataframe tbody tr th:only-of-type {\n",
              "        vertical-align: middle;\n",
              "    }\n",
              "\n",
              "    .dataframe tbody tr th {\n",
              "        vertical-align: top;\n",
              "    }\n",
              "\n",
              "    .dataframe thead th {\n",
              "        text-align: right;\n",
              "    }\n",
              "</style>\n",
              "<table border=\"1\" class=\"dataframe\">\n",
              "  <thead>\n",
              "    <tr style=\"text-align: right;\">\n",
              "      <th></th>\n",
              "      <th>주간평균</th>\n",
              "      <th>최고값</th>\n",
              "      <th>최저값</th>\n",
              "    </tr>\n",
              "    <tr>\n",
              "      <th>지역</th>\n",
              "      <th></th>\n",
              "      <th></th>\n",
              "      <th></th>\n",
              "    </tr>\n",
              "  </thead>\n",
              "  <tbody>\n",
              "    <tr>\n",
              "      <th>강원</th>\n",
              "      <td>14</td>\n",
              "      <td>18</td>\n",
              "      <td>9</td>\n",
              "    </tr>\n",
              "    <tr>\n",
              "      <th>경기</th>\n",
              "      <td>20</td>\n",
              "      <td>27</td>\n",
              "      <td>13</td>\n",
              "    </tr>\n",
              "    <tr>\n",
              "      <th>경남</th>\n",
              "      <td>13</td>\n",
              "      <td>17</td>\n",
              "      <td>9</td>\n",
              "    </tr>\n",
              "    <tr>\n",
              "      <th>경북</th>\n",
              "      <td>15</td>\n",
              "      <td>23</td>\n",
              "      <td>8</td>\n",
              "    </tr>\n",
              "    <tr>\n",
              "      <th>광주</th>\n",
              "      <td>19</td>\n",
              "      <td>23</td>\n",
              "      <td>15</td>\n",
              "    </tr>\n",
              "    <tr>\n",
              "      <th>대구</th>\n",
              "      <td>15</td>\n",
              "      <td>18</td>\n",
              "      <td>11</td>\n",
              "    </tr>\n",
              "    <tr>\n",
              "      <th>대전</th>\n",
              "      <td>16</td>\n",
              "      <td>20</td>\n",
              "      <td>12</td>\n",
              "    </tr>\n",
              "    <tr>\n",
              "      <th>부산</th>\n",
              "      <td>13</td>\n",
              "      <td>18</td>\n",
              "      <td>10</td>\n",
              "    </tr>\n",
              "    <tr>\n",
              "      <th>서울</th>\n",
              "      <td>20</td>\n",
              "      <td>22</td>\n",
              "      <td>16</td>\n",
              "    </tr>\n",
              "    <tr>\n",
              "      <th>세종</th>\n",
              "      <td>18</td>\n",
              "      <td>19</td>\n",
              "      <td>17</td>\n",
              "    </tr>\n",
              "    <tr>\n",
              "      <th>울산</th>\n",
              "      <td>14</td>\n",
              "      <td>16</td>\n",
              "      <td>11</td>\n",
              "    </tr>\n",
              "    <tr>\n",
              "      <th>인천</th>\n",
              "      <td>20</td>\n",
              "      <td>30</td>\n",
              "      <td>12</td>\n",
              "    </tr>\n",
              "    <tr>\n",
              "      <th>전남</th>\n",
              "      <td>14</td>\n",
              "      <td>27</td>\n",
              "      <td>10</td>\n",
              "    </tr>\n",
              "    <tr>\n",
              "      <th>전북</th>\n",
              "      <td>23</td>\n",
              "      <td>30</td>\n",
              "      <td>14</td>\n",
              "    </tr>\n",
              "    <tr>\n",
              "      <th>제주</th>\n",
              "      <td>14</td>\n",
              "      <td>16</td>\n",
              "      <td>11</td>\n",
              "    </tr>\n",
              "    <tr>\n",
              "      <th>충남</th>\n",
              "      <td>23</td>\n",
              "      <td>29</td>\n",
              "      <td>19</td>\n",
              "    </tr>\n",
              "    <tr>\n",
              "      <th>충북</th>\n",
              "      <td>19</td>\n",
              "      <td>26</td>\n",
              "      <td>14</td>\n",
              "    </tr>\n",
              "  </tbody>\n",
              "</table>\n",
              "</div>"
            ],
            "text/plain": [
              "    주간평균  최고값  최저값\n",
              "지역                \n",
              "강원    14   18    9\n",
              "경기    20   27   13\n",
              "경남    13   17    9\n",
              "경북    15   23    8\n",
              "광주    19   23   15\n",
              "대구    15   18   11\n",
              "대전    16   20   12\n",
              "부산    13   18   10\n",
              "서울    20   22   16\n",
              "세종    18   19   17\n",
              "울산    14   16   11\n",
              "인천    20   30   12\n",
              "전남    14   27   10\n",
              "전북    23   30   14\n",
              "제주    14   16   11\n",
              "충남    23   29   19\n",
              "충북    19   26   14"
            ]
          },
          "metadata": {
            "tags": []
          },
          "execution_count": 91
        }
      ]
    },
    {
      "cell_type": "code",
      "metadata": {
        "id": "Si9uXRvPrqES"
      },
      "source": [
        "df = df.sort_index()"
      ],
      "execution_count": 90,
      "outputs": []
    },
    {
      "cell_type": "code",
      "metadata": {
        "id": "jods3PC-r2pY"
      },
      "source": [
        "df.sort_values('주간평균', ascending=False)"
      ],
      "execution_count": null,
      "outputs": []
    },
    {
      "cell_type": "markdown",
      "metadata": {
        "id": "jrClfnlx3yDz"
      },
      "source": [
        "### 문자열 처리\n",
        "* df['열명'].str"
      ]
    },
    {
      "cell_type": "code",
      "metadata": {
        "id": "voY9rfxo0hk5",
        "colab": {
          "base_uri": "https://localhost:8080/"
        },
        "outputId": "f632c847-d874-4f0c-b12c-aef69548d344"
      },
      "source": [
        "data = pd.read_excel('/content/drive/MyDrive/파이썬특강/python2021/data/특성화학과정보_컴퓨터.xlsx')\n",
        "data.info()"
      ],
      "execution_count": 105,
      "outputs": [
        {
          "output_type": "stream",
          "text": [
            "<class 'pandas.core.frame.DataFrame'>\n",
            "RangeIndex: 137 entries, 0 to 136\n",
            "Data columns (total 18 columns):\n",
            " #   Column         Non-Null Count  Dtype  \n",
            "---  ------         --------------  -----  \n",
            " 0   No             137 non-null    int64  \n",
            " 1   학과명            137 non-null    object \n",
            " 2   대학명            137 non-null    object \n",
            " 3   폐과             0 non-null      float64\n",
            " 4   학과 특성화명        137 non-null    object \n",
            " 5   특성화 구분         137 non-null    object \n",
            " 6   특성화분류 (대-중-소)  137 non-null    object \n",
            " 7   Unnamed: 7     137 non-null    object \n",
            " 8   Unnamed: 8     137 non-null    object \n",
            " 9   구분             137 non-null    object \n",
            " 10  학교종류           137 non-null    object \n",
            " 11  지역             137 non-null    object \n",
            " 12  설립유형           137 non-null    object \n",
            " 13  주야구분           137 non-null    object \n",
            " 14  표준분류계열(대)      137 non-null    object \n",
            " 15  표준분류계열(중)      137 non-null    object \n",
            " 16  표준분류계열(소)      137 non-null    object \n",
            " 17  관심             0 non-null      float64\n",
            "dtypes: float64(2), int64(1), object(15)\n",
            "memory usage: 19.4+ KB\n"
          ],
          "name": "stdout"
        }
      ]
    },
    {
      "cell_type": "code",
      "metadata": {
        "colab": {
          "base_uri": "https://localhost:8080/"
        },
        "id": "u2wUOJpguN55",
        "outputId": "9ecb54e9-3a96-4ae0-d9b4-22f0b7b2aebc"
      },
      "source": [
        "data['대학명']"
      ],
      "execution_count": 149,
      "outputs": [
        {
          "output_type": "execute_result",
          "data": {
            "text/plain": [
              "0             가천\n",
              "1            가톨릭\n",
              "2            가톨릭\n",
              "3            가톨릭\n",
              "4           강릉원주\n",
              "         ...    \n",
              "548       호서대학교 \n",
              "549       호서대학교 \n",
              "550       홍익대학교 \n",
              "551       홍익대학교 \n",
              "552    과학기술연합대학원\n",
              "Name: 대학명, Length: 553, dtype: object"
            ]
          },
          "metadata": {
            "tags": []
          },
          "execution_count": 149
        }
      ]
    },
    {
      "cell_type": "code",
      "metadata": {
        "id": "sqvTfvWM4S8l"
      },
      "source": [
        "data['대학명']=data['대학명'].str[:-3]\n",
        "data"
      ],
      "execution_count": null,
      "outputs": []
    },
    {
      "cell_type": "code",
      "metadata": {
        "id": "JWTEv7XNzAGU"
      },
      "source": [
        "area = list(data['지역'])"
      ],
      "execution_count": null,
      "outputs": []
    },
    {
      "cell_type": "code",
      "metadata": {
        "colab": {
          "base_uri": "https://localhost:8080/"
        },
        "id": "VAj3vN6ByPJi",
        "outputId": "768b8cfa-332c-431b-be5c-ca1bb19bf0fa"
      },
      "source": [
        "seoul = data[data['지역']=='서울']\n",
        "seoul.info()"
      ],
      "execution_count": 111,
      "outputs": [
        {
          "output_type": "stream",
          "text": [
            "<class 'pandas.core.frame.DataFrame'>\n",
            "Int64Index: 19 entries, 2 to 116\n",
            "Data columns (total 18 columns):\n",
            " #   Column         Non-Null Count  Dtype  \n",
            "---  ------         --------------  -----  \n",
            " 0   No             19 non-null     int64  \n",
            " 1   학과명            19 non-null     object \n",
            " 2   대학명            19 non-null     object \n",
            " 3   폐과             0 non-null      float64\n",
            " 4   학과 특성화명        19 non-null     object \n",
            " 5   특성화 구분         19 non-null     object \n",
            " 6   특성화분류 (대-중-소)  19 non-null     object \n",
            " 7   Unnamed: 7     19 non-null     object \n",
            " 8   Unnamed: 8     19 non-null     object \n",
            " 9   구분             19 non-null     object \n",
            " 10  학교종류           19 non-null     object \n",
            " 11  지역             19 non-null     object \n",
            " 12  설립유형           19 non-null     object \n",
            " 13  주야구분           19 non-null     object \n",
            " 14  표준분류계열(대)      19 non-null     object \n",
            " 15  표준분류계열(중)      19 non-null     object \n",
            " 16  표준분류계열(소)      19 non-null     object \n",
            " 17  관심             0 non-null      float64\n",
            "dtypes: float64(2), int64(1), object(15)\n",
            "memory usage: 2.8+ KB\n"
          ],
          "name": "stdout"
        }
      ]
    },
    {
      "cell_type": "code",
      "metadata": {
        "id": "Mf1k5k5azPTh"
      },
      "source": [
        "my = data[(data['지역'] == '서울') | (data['지역'] == '부산') | (data['지역'] == '울산')]\n",
        "my['대학명']"
      ],
      "execution_count": null,
      "outputs": []
    },
    {
      "cell_type": "code",
      "metadata": {
        "colab": {
          "base_uri": "https://localhost:8080/",
          "height": 607
        },
        "id": "ojsyTvjE0Qd0",
        "outputId": "2eb37214-b0f7-4512-e0c5-fd33345916f1"
      },
      "source": [
        "data.groupby('지역')[['대학명']].count()"
      ],
      "execution_count": 116,
      "outputs": [
        {
          "output_type": "execute_result",
          "data": {
            "text/html": [
              "<div>\n",
              "<style scoped>\n",
              "    .dataframe tbody tr th:only-of-type {\n",
              "        vertical-align: middle;\n",
              "    }\n",
              "\n",
              "    .dataframe tbody tr th {\n",
              "        vertical-align: top;\n",
              "    }\n",
              "\n",
              "    .dataframe thead th {\n",
              "        text-align: right;\n",
              "    }\n",
              "</style>\n",
              "<table border=\"1\" class=\"dataframe\">\n",
              "  <thead>\n",
              "    <tr style=\"text-align: right;\">\n",
              "      <th></th>\n",
              "      <th>대학명</th>\n",
              "    </tr>\n",
              "    <tr>\n",
              "      <th>지역</th>\n",
              "      <th></th>\n",
              "    </tr>\n",
              "  </thead>\n",
              "  <tbody>\n",
              "    <tr>\n",
              "      <th>강원</th>\n",
              "      <td>4</td>\n",
              "    </tr>\n",
              "    <tr>\n",
              "      <th>경기</th>\n",
              "      <td>21</td>\n",
              "    </tr>\n",
              "    <tr>\n",
              "      <th>경남</th>\n",
              "      <td>5</td>\n",
              "    </tr>\n",
              "    <tr>\n",
              "      <th>경북</th>\n",
              "      <td>8</td>\n",
              "    </tr>\n",
              "    <tr>\n",
              "      <th>광주</th>\n",
              "      <td>6</td>\n",
              "    </tr>\n",
              "    <tr>\n",
              "      <th>대구</th>\n",
              "      <td>9</td>\n",
              "    </tr>\n",
              "    <tr>\n",
              "      <th>대전</th>\n",
              "      <td>11</td>\n",
              "    </tr>\n",
              "    <tr>\n",
              "      <th>부산</th>\n",
              "      <td>11</td>\n",
              "    </tr>\n",
              "    <tr>\n",
              "      <th>서울</th>\n",
              "      <td>19</td>\n",
              "    </tr>\n",
              "    <tr>\n",
              "      <th>세종</th>\n",
              "      <td>1</td>\n",
              "    </tr>\n",
              "    <tr>\n",
              "      <th>울산</th>\n",
              "      <td>1</td>\n",
              "    </tr>\n",
              "    <tr>\n",
              "      <th>인천</th>\n",
              "      <td>6</td>\n",
              "    </tr>\n",
              "    <tr>\n",
              "      <th>전남</th>\n",
              "      <td>5</td>\n",
              "    </tr>\n",
              "    <tr>\n",
              "      <th>전북</th>\n",
              "      <td>6</td>\n",
              "    </tr>\n",
              "    <tr>\n",
              "      <th>제주</th>\n",
              "      <td>5</td>\n",
              "    </tr>\n",
              "    <tr>\n",
              "      <th>충남</th>\n",
              "      <td>7</td>\n",
              "    </tr>\n",
              "    <tr>\n",
              "      <th>충북</th>\n",
              "      <td>12</td>\n",
              "    </tr>\n",
              "  </tbody>\n",
              "</table>\n",
              "</div>"
            ],
            "text/plain": [
              "    대학명\n",
              "지역     \n",
              "강원    4\n",
              "경기   21\n",
              "경남    5\n",
              "경북    8\n",
              "광주    6\n",
              "대구    9\n",
              "대전   11\n",
              "부산   11\n",
              "서울   19\n",
              "세종    1\n",
              "울산    1\n",
              "인천    6\n",
              "전남    5\n",
              "전북    6\n",
              "제주    5\n",
              "충남    7\n",
              "충북   12"
            ]
          },
          "metadata": {
            "tags": []
          },
          "execution_count": 116
        }
      ]
    },
    {
      "cell_type": "markdown",
      "metadata": {
        "id": "GwbwuSVKy7iL"
      },
      "source": [
        "### 그룹화\n",
        "* 데이터를 그룹별로 분류\n",
        "* df.groupby(인수)\n",
        "  + 열 또는 열의 리스트\n",
        "  + 행 인덱스\n",
        "* 그룹 연산 메소드\n",
        "  + size, count: 그룹 데이터의 갯수\n",
        "  + mean, median, min, max: 그룹 데이터의 평균, 중앙값, 최소, 최대\n",
        "  + sum, prod, std, var, quantile : 그룹 데이터의 합계, 곱, 표준편차, 분산, 사분위수\n",
        "  + first, last: 그룹 데이터 중 가장 첫번째 데이터와 가장 나중 데이터"
      ]
    },
    {
      "cell_type": "code",
      "metadata": {
        "id": "M1nAH61E0prf"
      },
      "source": [
        "datag = data.groupby('지역')[['대학명']].count()\n",
        "datag.sort_values('대학명', ascending=False)"
      ],
      "execution_count": null,
      "outputs": []
    },
    {
      "cell_type": "code",
      "metadata": {
        "id": "6caI8tko07rY"
      },
      "source": [
        "pusan = pd.read_csv('/content/drive/MyDrive/파이썬특강/python2021/data/부산대1821.csv',engine = 'python', encoding = 'cp949')\n",
        "pusan"
      ],
      "execution_count": null,
      "outputs": []
    },
    {
      "cell_type": "code",
      "metadata": {
        "id": "JfVPT7KN1kMg"
      },
      "source": [
        "pusan.describe()"
      ],
      "execution_count": null,
      "outputs": []
    },
    {
      "cell_type": "code",
      "metadata": {
        "colab": {
          "base_uri": "https://localhost:8080/",
          "height": 452
        },
        "id": "C5cItrrD1xYx",
        "outputId": "0c09e401-531f-49c9-e9f5-3f0ed0800008"
      },
      "source": [
        "pusan.groupby('학과').mean().loc[:,:'추합']"
      ],
      "execution_count": 124,
      "outputs": [
        {
          "output_type": "execute_result",
          "data": {
            "text/html": [
              "<div>\n",
              "<style scoped>\n",
              "    .dataframe tbody tr th:only-of-type {\n",
              "        vertical-align: middle;\n",
              "    }\n",
              "\n",
              "    .dataframe tbody tr th {\n",
              "        vertical-align: top;\n",
              "    }\n",
              "\n",
              "    .dataframe thead th {\n",
              "        text-align: right;\n",
              "    }\n",
              "</style>\n",
              "<table border=\"1\" class=\"dataframe\">\n",
              "  <thead>\n",
              "    <tr style=\"text-align: right;\">\n",
              "      <th></th>\n",
              "      <th>경쟁률</th>\n",
              "      <th>교과총점</th>\n",
              "      <th>등급</th>\n",
              "      <th>추합</th>\n",
              "    </tr>\n",
              "    <tr>\n",
              "      <th>학과</th>\n",
              "      <th></th>\n",
              "      <th></th>\n",
              "      <th></th>\n",
              "      <th></th>\n",
              "    </tr>\n",
              "  </thead>\n",
              "  <tbody>\n",
              "    <tr>\n",
              "      <th>고고학과</th>\n",
              "      <td>9.139643</td>\n",
              "      <td>97.668779</td>\n",
              "      <td>3.271650</td>\n",
              "      <td>4.00</td>\n",
              "    </tr>\n",
              "    <tr>\n",
              "      <th>국어국문학과</th>\n",
              "      <td>8.404722</td>\n",
              "      <td>98.424692</td>\n",
              "      <td>2.612655</td>\n",
              "      <td>9.75</td>\n",
              "    </tr>\n",
              "    <tr>\n",
              "      <th>노어노문학과</th>\n",
              "      <td>9.981250</td>\n",
              "      <td>98.093001</td>\n",
              "      <td>2.853100</td>\n",
              "      <td>5.00</td>\n",
              "    </tr>\n",
              "    <tr>\n",
              "      <th>독어독문학과</th>\n",
              "      <td>11.626667</td>\n",
              "      <td>97.901055</td>\n",
              "      <td>3.061900</td>\n",
              "      <td>7.25</td>\n",
              "    </tr>\n",
              "    <tr>\n",
              "      <th>불어불문학과</th>\n",
              "      <td>13.864545</td>\n",
              "      <td>97.656481</td>\n",
              "      <td>3.305183</td>\n",
              "      <td>6.00</td>\n",
              "    </tr>\n",
              "    <tr>\n",
              "      <th>사학과</th>\n",
              "      <td>8.556071</td>\n",
              "      <td>98.459887</td>\n",
              "      <td>2.537035</td>\n",
              "      <td>4.50</td>\n",
              "    </tr>\n",
              "    <tr>\n",
              "      <th>언어정보학과</th>\n",
              "      <td>9.160000</td>\n",
              "      <td>98.308998</td>\n",
              "      <td>2.559293</td>\n",
              "      <td>5.00</td>\n",
              "    </tr>\n",
              "    <tr>\n",
              "      <th>영어영문학과</th>\n",
              "      <td>8.982500</td>\n",
              "      <td>98.381980</td>\n",
              "      <td>2.533871</td>\n",
              "      <td>16.75</td>\n",
              "    </tr>\n",
              "    <tr>\n",
              "      <th>일어일문학과</th>\n",
              "      <td>8.096071</td>\n",
              "      <td>98.250769</td>\n",
              "      <td>2.712055</td>\n",
              "      <td>7.25</td>\n",
              "    </tr>\n",
              "    <tr>\n",
              "      <th>중어중문학과</th>\n",
              "      <td>9.813333</td>\n",
              "      <td>98.055097</td>\n",
              "      <td>2.988138</td>\n",
              "      <td>5.50</td>\n",
              "    </tr>\n",
              "    <tr>\n",
              "      <th>철학과</th>\n",
              "      <td>12.256250</td>\n",
              "      <td>97.157210</td>\n",
              "      <td>3.436600</td>\n",
              "      <td>3.25</td>\n",
              "    </tr>\n",
              "    <tr>\n",
              "      <th>한문학과</th>\n",
              "      <td>10.744643</td>\n",
              "      <td>96.694833</td>\n",
              "      <td>3.554725</td>\n",
              "      <td>3.25</td>\n",
              "    </tr>\n",
              "  </tbody>\n",
              "</table>\n",
              "</div>"
            ],
            "text/plain": [
              "              경쟁률       교과총점        등급     추합\n",
              "학과                                           \n",
              "고고학과     9.139643  97.668779  3.271650   4.00\n",
              "국어국문학과   8.404722  98.424692  2.612655   9.75\n",
              "노어노문학과   9.981250  98.093001  2.853100   5.00\n",
              "독어독문학과  11.626667  97.901055  3.061900   7.25\n",
              "불어불문학과  13.864545  97.656481  3.305183   6.00\n",
              "사학과      8.556071  98.459887  2.537035   4.50\n",
              "언어정보학과   9.160000  98.308998  2.559293   5.00\n",
              "영어영문학과   8.982500  98.381980  2.533871  16.75\n",
              "일어일문학과   8.096071  98.250769  2.712055   7.25\n",
              "중어중문학과   9.813333  98.055097  2.988138   5.50\n",
              "철학과     12.256250  97.157210  3.436600   3.25\n",
              "한문학과    10.744643  96.694833  3.554725   3.25"
            ]
          },
          "metadata": {
            "tags": []
          },
          "execution_count": 124
        }
      ]
    },
    {
      "cell_type": "markdown",
      "metadata": {
        "id": "wHgv7iyx4t1D"
      },
      "source": [
        "### 시계열 자료\n",
        "* **pd.to_datetime()** : 날짜/시간을 나타내는 문자열을 자동으로 datetime 자료형으로 변환\n",
        "* **dt 접근자** : datetime 자료형 시리즈에는 dt 접근자가 있어 datetime 자료형이 가진 몇가지 유용한 속성과 메서드를 사용\n",
        "  +  year, month, day, weekday 등의 속성을 이용하면 년, 월, 일, 요일 정보 추출\n",
        "\n",
        "dt 접근자 | 내용 \n",
        "-------------------|------------------\n",
        ".dt.date         | YYYY-MM-DD(문자)\n",
        ".dt.year         | 연(4자리숫자)\n",
        ".dt.month        | 월(숫자)\n",
        ".dt.month_name() | 월(문자)\n",
        ".dt.day          | 일(숫자)\n",
        ".dt.time         | HH:MM:SS(문자)\n",
        ".dt.hour         | 시(숫자)\n",
        ".dt.minute       | 분(숫자)\n",
        ".dt.second       | 초(숫자)\n",
        ".dt.quarter       | 분기(숫자)\n",
        ".dt.day_name()  | 요일이름(문자)  \n",
        ".dt.weekday       | 요일숫자(0-월, 1-화) (=dayofweek)\n",
        ".dt.weekofyear    | 연 기준 몇주째(숫자) (=week)\n",
        ".dt.dayofyear     | 연 기준 몇일째(숫자)\n",
        ".dt.days_in_month | 월 일수(숫자) (=daysinmonth)"
      ]
    },
    {
      "cell_type": "code",
      "metadata": {
        "id": "7sfY4A4g5fWi",
        "colab": {
          "base_uri": "https://localhost:8080/"
        },
        "outputId": "d17d2bb7-04a7-450b-f455-52721c215c17"
      },
      "source": [
        "data = pd.read_csv('/content/drive/MyDrive/파이썬특강/python2021/data/air.csv', encoding='cp949')\n",
        "data.info()"
      ],
      "execution_count": 126,
      "outputs": [
        {
          "output_type": "stream",
          "text": [
            "<class 'pandas.core.frame.DataFrame'>\n",
            "RangeIndex: 591 entries, 0 to 590\n",
            "Data columns (total 13 columns):\n",
            " #   Column  Non-Null Count  Dtype  \n",
            "---  ------  --------------  -----  \n",
            " 0   날짜      591 non-null    object \n",
            " 1   PM10_1  589 non-null    object \n",
            " 2   PM10_2  589 non-null    float64\n",
            " 3   PM25_1  589 non-null    object \n",
            " 4   PM25_2  589 non-null    float64\n",
            " 5   O3_1    589 non-null    object \n",
            " 6   O3_2    589 non-null    float64\n",
            " 7   NO2_1   589 non-null    object \n",
            " 8   NO2_2   589 non-null    float64\n",
            " 9   CO_1    589 non-null    object \n",
            " 10  Co_2    589 non-null    float64\n",
            " 11  SO2_1   589 non-null    object \n",
            " 12  SO2_2   589 non-null    float64\n",
            "dtypes: float64(6), object(7)\n",
            "memory usage: 60.1+ KB\n"
          ],
          "name": "stdout"
        }
      ]
    },
    {
      "cell_type": "code",
      "metadata": {
        "id": "XXq4ucab5wmr",
        "colab": {
          "base_uri": "https://localhost:8080/",
          "height": 204
        },
        "outputId": "5fe5146f-c4ac-41e4-b1d5-cfe56bdeee93"
      },
      "source": [
        "data.head()"
      ],
      "execution_count": 127,
      "outputs": [
        {
          "output_type": "execute_result",
          "data": {
            "text/html": [
              "<div>\n",
              "<style scoped>\n",
              "    .dataframe tbody tr th:only-of-type {\n",
              "        vertical-align: middle;\n",
              "    }\n",
              "\n",
              "    .dataframe tbody tr th {\n",
              "        vertical-align: top;\n",
              "    }\n",
              "\n",
              "    .dataframe thead th {\n",
              "        text-align: right;\n",
              "    }\n",
              "</style>\n",
              "<table border=\"1\" class=\"dataframe\">\n",
              "  <thead>\n",
              "    <tr style=\"text-align: right;\">\n",
              "      <th></th>\n",
              "      <th>날짜</th>\n",
              "      <th>PM10_1</th>\n",
              "      <th>PM10_2</th>\n",
              "      <th>PM25_1</th>\n",
              "      <th>PM25_2</th>\n",
              "      <th>O3_1</th>\n",
              "      <th>O3_2</th>\n",
              "      <th>NO2_1</th>\n",
              "      <th>NO2_2</th>\n",
              "      <th>CO_1</th>\n",
              "      <th>Co_2</th>\n",
              "      <th>SO2_1</th>\n",
              "      <th>SO2_2</th>\n",
              "    </tr>\n",
              "  </thead>\n",
              "  <tbody>\n",
              "    <tr>\n",
              "      <th>0</th>\n",
              "      <td>2021-04-25:15</td>\n",
              "      <td>좋음</td>\n",
              "      <td>23.0</td>\n",
              "      <td>좋음</td>\n",
              "      <td>10.0</td>\n",
              "      <td>보통</td>\n",
              "      <td>0.050</td>\n",
              "      <td>좋음</td>\n",
              "      <td>0.008</td>\n",
              "      <td>좋음</td>\n",
              "      <td>0.3</td>\n",
              "      <td>좋음</td>\n",
              "      <td>0.002</td>\n",
              "    </tr>\n",
              "    <tr>\n",
              "      <th>1</th>\n",
              "      <td>2021-04-25:14</td>\n",
              "      <td>좋음</td>\n",
              "      <td>24.0</td>\n",
              "      <td>좋음</td>\n",
              "      <td>10.0</td>\n",
              "      <td>보통</td>\n",
              "      <td>0.049</td>\n",
              "      <td>좋음</td>\n",
              "      <td>0.007</td>\n",
              "      <td>좋음</td>\n",
              "      <td>0.3</td>\n",
              "      <td>좋음</td>\n",
              "      <td>0.002</td>\n",
              "    </tr>\n",
              "    <tr>\n",
              "      <th>2</th>\n",
              "      <td>2021-04-25:13</td>\n",
              "      <td>좋음</td>\n",
              "      <td>27.0</td>\n",
              "      <td>좋음</td>\n",
              "      <td>8.0</td>\n",
              "      <td>보통</td>\n",
              "      <td>0.046</td>\n",
              "      <td>좋음</td>\n",
              "      <td>0.009</td>\n",
              "      <td>좋음</td>\n",
              "      <td>0.3</td>\n",
              "      <td>좋음</td>\n",
              "      <td>0.002</td>\n",
              "    </tr>\n",
              "    <tr>\n",
              "      <th>3</th>\n",
              "      <td>2021-04-25:12</td>\n",
              "      <td>좋음</td>\n",
              "      <td>23.0</td>\n",
              "      <td>좋음</td>\n",
              "      <td>9.0</td>\n",
              "      <td>보통</td>\n",
              "      <td>0.043</td>\n",
              "      <td>좋음</td>\n",
              "      <td>0.009</td>\n",
              "      <td>좋음</td>\n",
              "      <td>0.3</td>\n",
              "      <td>좋음</td>\n",
              "      <td>0.002</td>\n",
              "    </tr>\n",
              "    <tr>\n",
              "      <th>4</th>\n",
              "      <td>2021-04-25:11</td>\n",
              "      <td>좋음</td>\n",
              "      <td>27.0</td>\n",
              "      <td>좋음</td>\n",
              "      <td>12.0</td>\n",
              "      <td>보통</td>\n",
              "      <td>0.044</td>\n",
              "      <td>좋음</td>\n",
              "      <td>0.007</td>\n",
              "      <td>좋음</td>\n",
              "      <td>0.3</td>\n",
              "      <td>좋음</td>\n",
              "      <td>0.002</td>\n",
              "    </tr>\n",
              "  </tbody>\n",
              "</table>\n",
              "</div>"
            ],
            "text/plain": [
              "              날짜 PM10_1  PM10_2 PM25_1  PM25_2  ...  NO2_2  CO_1 Co_2  SO2_1  SO2_2\n",
              "0  2021-04-25:15     좋음    23.0     좋음    10.0  ...  0.008    좋음  0.3     좋음  0.002\n",
              "1  2021-04-25:14     좋음    24.0     좋음    10.0  ...  0.007    좋음  0.3     좋음  0.002\n",
              "2  2021-04-25:13     좋음    27.0     좋음     8.0  ...  0.009    좋음  0.3     좋음  0.002\n",
              "3  2021-04-25:12     좋음    23.0     좋음     9.0  ...  0.009    좋음  0.3     좋음  0.002\n",
              "4  2021-04-25:11     좋음    27.0     좋음    12.0  ...  0.007    좋음  0.3     좋음  0.002\n",
              "\n",
              "[5 rows x 13 columns]"
            ]
          },
          "metadata": {
            "tags": []
          },
          "execution_count": 127
        }
      ]
    },
    {
      "cell_type": "code",
      "metadata": {
        "id": "S9Cx0RbM502p",
        "colab": {
          "base_uri": "https://localhost:8080/"
        },
        "outputId": "254f3b43-f890-45b3-fd7d-1ea78c210db4"
      },
      "source": [
        "data['day'] = data['날짜'].str[:-3]\n",
        "data['day'] = pd.to_datetime(data['day'])\n",
        "data.info()"
      ],
      "execution_count": 128,
      "outputs": [
        {
          "output_type": "stream",
          "text": [
            "<class 'pandas.core.frame.DataFrame'>\n",
            "RangeIndex: 591 entries, 0 to 590\n",
            "Data columns (total 14 columns):\n",
            " #   Column  Non-Null Count  Dtype         \n",
            "---  ------  --------------  -----         \n",
            " 0   날짜      591 non-null    object        \n",
            " 1   PM10_1  589 non-null    object        \n",
            " 2   PM10_2  589 non-null    float64       \n",
            " 3   PM25_1  589 non-null    object        \n",
            " 4   PM25_2  589 non-null    float64       \n",
            " 5   O3_1    589 non-null    object        \n",
            " 6   O3_2    589 non-null    float64       \n",
            " 7   NO2_1   589 non-null    object        \n",
            " 8   NO2_2   589 non-null    float64       \n",
            " 9   CO_1    589 non-null    object        \n",
            " 10  Co_2    589 non-null    float64       \n",
            " 11  SO2_1   589 non-null    object        \n",
            " 12  SO2_2   589 non-null    float64       \n",
            " 13  day     591 non-null    datetime64[ns]\n",
            "dtypes: datetime64[ns](1), float64(6), object(7)\n",
            "memory usage: 64.8+ KB\n"
          ],
          "name": "stdout"
        }
      ]
    },
    {
      "cell_type": "code",
      "metadata": {
        "id": "g_FOqiZJ6S1l",
        "colab": {
          "base_uri": "https://localhost:8080/",
          "height": 204
        },
        "outputId": "ff39fdee-8929-4501-9dda-f7f75cbcc58c"
      },
      "source": [
        "data['요일'] = data['day'].dt.day_name()\n",
        "data.head()"
      ],
      "execution_count": 129,
      "outputs": [
        {
          "output_type": "execute_result",
          "data": {
            "text/html": [
              "<div>\n",
              "<style scoped>\n",
              "    .dataframe tbody tr th:only-of-type {\n",
              "        vertical-align: middle;\n",
              "    }\n",
              "\n",
              "    .dataframe tbody tr th {\n",
              "        vertical-align: top;\n",
              "    }\n",
              "\n",
              "    .dataframe thead th {\n",
              "        text-align: right;\n",
              "    }\n",
              "</style>\n",
              "<table border=\"1\" class=\"dataframe\">\n",
              "  <thead>\n",
              "    <tr style=\"text-align: right;\">\n",
              "      <th></th>\n",
              "      <th>날짜</th>\n",
              "      <th>PM10_1</th>\n",
              "      <th>PM10_2</th>\n",
              "      <th>PM25_1</th>\n",
              "      <th>PM25_2</th>\n",
              "      <th>O3_1</th>\n",
              "      <th>O3_2</th>\n",
              "      <th>NO2_1</th>\n",
              "      <th>NO2_2</th>\n",
              "      <th>CO_1</th>\n",
              "      <th>Co_2</th>\n",
              "      <th>SO2_1</th>\n",
              "      <th>SO2_2</th>\n",
              "      <th>day</th>\n",
              "      <th>요일</th>\n",
              "    </tr>\n",
              "  </thead>\n",
              "  <tbody>\n",
              "    <tr>\n",
              "      <th>0</th>\n",
              "      <td>2021-04-25:15</td>\n",
              "      <td>좋음</td>\n",
              "      <td>23.0</td>\n",
              "      <td>좋음</td>\n",
              "      <td>10.0</td>\n",
              "      <td>보통</td>\n",
              "      <td>0.050</td>\n",
              "      <td>좋음</td>\n",
              "      <td>0.008</td>\n",
              "      <td>좋음</td>\n",
              "      <td>0.3</td>\n",
              "      <td>좋음</td>\n",
              "      <td>0.002</td>\n",
              "      <td>2021-04-25</td>\n",
              "      <td>Sunday</td>\n",
              "    </tr>\n",
              "    <tr>\n",
              "      <th>1</th>\n",
              "      <td>2021-04-25:14</td>\n",
              "      <td>좋음</td>\n",
              "      <td>24.0</td>\n",
              "      <td>좋음</td>\n",
              "      <td>10.0</td>\n",
              "      <td>보통</td>\n",
              "      <td>0.049</td>\n",
              "      <td>좋음</td>\n",
              "      <td>0.007</td>\n",
              "      <td>좋음</td>\n",
              "      <td>0.3</td>\n",
              "      <td>좋음</td>\n",
              "      <td>0.002</td>\n",
              "      <td>2021-04-25</td>\n",
              "      <td>Sunday</td>\n",
              "    </tr>\n",
              "    <tr>\n",
              "      <th>2</th>\n",
              "      <td>2021-04-25:13</td>\n",
              "      <td>좋음</td>\n",
              "      <td>27.0</td>\n",
              "      <td>좋음</td>\n",
              "      <td>8.0</td>\n",
              "      <td>보통</td>\n",
              "      <td>0.046</td>\n",
              "      <td>좋음</td>\n",
              "      <td>0.009</td>\n",
              "      <td>좋음</td>\n",
              "      <td>0.3</td>\n",
              "      <td>좋음</td>\n",
              "      <td>0.002</td>\n",
              "      <td>2021-04-25</td>\n",
              "      <td>Sunday</td>\n",
              "    </tr>\n",
              "    <tr>\n",
              "      <th>3</th>\n",
              "      <td>2021-04-25:12</td>\n",
              "      <td>좋음</td>\n",
              "      <td>23.0</td>\n",
              "      <td>좋음</td>\n",
              "      <td>9.0</td>\n",
              "      <td>보통</td>\n",
              "      <td>0.043</td>\n",
              "      <td>좋음</td>\n",
              "      <td>0.009</td>\n",
              "      <td>좋음</td>\n",
              "      <td>0.3</td>\n",
              "      <td>좋음</td>\n",
              "      <td>0.002</td>\n",
              "      <td>2021-04-25</td>\n",
              "      <td>Sunday</td>\n",
              "    </tr>\n",
              "    <tr>\n",
              "      <th>4</th>\n",
              "      <td>2021-04-25:11</td>\n",
              "      <td>좋음</td>\n",
              "      <td>27.0</td>\n",
              "      <td>좋음</td>\n",
              "      <td>12.0</td>\n",
              "      <td>보통</td>\n",
              "      <td>0.044</td>\n",
              "      <td>좋음</td>\n",
              "      <td>0.007</td>\n",
              "      <td>좋음</td>\n",
              "      <td>0.3</td>\n",
              "      <td>좋음</td>\n",
              "      <td>0.002</td>\n",
              "      <td>2021-04-25</td>\n",
              "      <td>Sunday</td>\n",
              "    </tr>\n",
              "  </tbody>\n",
              "</table>\n",
              "</div>"
            ],
            "text/plain": [
              "              날짜 PM10_1  PM10_2 PM25_1  ...  SO2_1  SO2_2        day      요일\n",
              "0  2021-04-25:15     좋음    23.0     좋음  ...     좋음  0.002 2021-04-25  Sunday\n",
              "1  2021-04-25:14     좋음    24.0     좋음  ...     좋음  0.002 2021-04-25  Sunday\n",
              "2  2021-04-25:13     좋음    27.0     좋음  ...     좋음  0.002 2021-04-25  Sunday\n",
              "3  2021-04-25:12     좋음    23.0     좋음  ...     좋음  0.002 2021-04-25  Sunday\n",
              "4  2021-04-25:11     좋음    27.0     좋음  ...     좋음  0.002 2021-04-25  Sunday\n",
              "\n",
              "[5 rows x 15 columns]"
            ]
          },
          "metadata": {
            "tags": []
          },
          "execution_count": 129
        }
      ]
    },
    {
      "cell_type": "markdown",
      "metadata": {
        "id": "AtwRNNPrsr4P"
      },
      "source": [
        "\n",
        "\n",
        "---\n",
        "## 해결문제 \n",
        "\n",
        "\n",
        "---\n",
        "\n",
        "대학알리미 사이트에서 표준분류 정보 검색을 통해 '컴퓨터'관련 학과를 검색한 정보를 받아서 자료를 분석하시오.\n",
        "\n",
        "1.'대학명','학과명', '지역', '설립유형', '표준분류계열(대)'\n",
        "\n",
        "2.부산지역의 국립 대학 추출\n"
      ]
    },
    {
      "cell_type": "code",
      "metadata": {
        "id": "SvguUpKH7Ckr"
      },
      "source": [
        "data = pd.read_excel('/content/drive/MyDrive/파이썬특강/python2021/data/표준분류 정보.xlsx')\n",
        "data.head()"
      ],
      "execution_count": null,
      "outputs": []
    },
    {
      "cell_type": "code",
      "metadata": {
        "colab": {
          "base_uri": "https://localhost:8080/",
          "height": 210
        },
        "id": "EPJsbNzK8WOk",
        "outputId": "2d7004cc-1756-42d9-fe50-ccf547958b9f"
      },
      "source": [
        "uni = data[(data['지역'] == '부산') & (data['설립유형'] == '국립')]\n",
        "uni"
      ],
      "execution_count": 181,
      "outputs": [
        {
          "output_type": "execute_result",
          "data": {
            "text/html": [
              "<div>\n",
              "<style scoped>\n",
              "    .dataframe tbody tr th:only-of-type {\n",
              "        vertical-align: middle;\n",
              "    }\n",
              "\n",
              "    .dataframe tbody tr th {\n",
              "        vertical-align: top;\n",
              "    }\n",
              "\n",
              "    .dataframe thead th {\n",
              "        text-align: right;\n",
              "    }\n",
              "</style>\n",
              "<table border=\"1\" class=\"dataframe\">\n",
              "  <thead>\n",
              "    <tr style=\"text-align: right;\">\n",
              "      <th></th>\n",
              "      <th>No</th>\n",
              "      <th>학과명</th>\n",
              "      <th>대학명</th>\n",
              "      <th>구분</th>\n",
              "      <th>학교종류</th>\n",
              "      <th>지역</th>\n",
              "      <th>설립유형</th>\n",
              "      <th>주야구분</th>\n",
              "      <th>학과특성</th>\n",
              "      <th>표준분류계열(대)</th>\n",
              "      <th>표준분류계열(중)</th>\n",
              "      <th>표준분류계열(소)</th>\n",
              "      <th>특성화학과</th>\n",
              "      <th>관심</th>\n",
              "    </tr>\n",
              "  </thead>\n",
              "  <tbody>\n",
              "    <tr>\n",
              "      <th>68</th>\n",
              "      <td>69</td>\n",
              "      <td>IT융합응용공학과</td>\n",
              "      <td>부경대학교</td>\n",
              "      <td>본교</td>\n",
              "      <td>대학교</td>\n",
              "      <td>부산</td>\n",
              "      <td>국립</td>\n",
              "      <td>주간</td>\n",
              "      <td>일반과정</td>\n",
              "      <td>공학</td>\n",
              "      <td>전기ㆍ전자ㆍ컴퓨터</td>\n",
              "      <td>응용소프트웨어공학</td>\n",
              "      <td>NaN</td>\n",
              "      <td>NaN</td>\n",
              "    </tr>\n",
              "    <tr>\n",
              "      <th>264</th>\n",
              "      <td>265</td>\n",
              "      <td>행정공간정보화드론학과</td>\n",
              "      <td>부경대학교 대학원</td>\n",
              "      <td>본교</td>\n",
              "      <td>일반대학원</td>\n",
              "      <td>부산</td>\n",
              "      <td>국립</td>\n",
              "      <td>주간</td>\n",
              "      <td>일반과정</td>\n",
              "      <td>공학</td>\n",
              "      <td>전기ㆍ전자ㆍ컴퓨터</td>\n",
              "      <td>응용소프트웨어공학</td>\n",
              "      <td>NaN</td>\n",
              "      <td>NaN</td>\n",
              "    </tr>\n",
              "    <tr>\n",
              "      <th>265</th>\n",
              "      <td>266</td>\n",
              "      <td>IT융합응용공학과</td>\n",
              "      <td>부경대학교 대학원</td>\n",
              "      <td>본교</td>\n",
              "      <td>일반대학원</td>\n",
              "      <td>부산</td>\n",
              "      <td>국립</td>\n",
              "      <td>주간</td>\n",
              "      <td>일반과정</td>\n",
              "      <td>공학</td>\n",
              "      <td>전기ㆍ전자ㆍ컴퓨터</td>\n",
              "      <td>응용소프트웨어공학</td>\n",
              "      <td>NaN</td>\n",
              "      <td>NaN</td>\n",
              "    </tr>\n",
              "  </tbody>\n",
              "</table>\n",
              "</div>"
            ],
            "text/plain": [
              "      No          학과명        대학명  구분  ...  표준분류계열(중)  표준분류계열(소) 특성화학과  관심\n",
              "68    69    IT융합응용공학과      부경대학교  본교  ...  전기ㆍ전자ㆍ컴퓨터  응용소프트웨어공학   NaN NaN\n",
              "264  265  행정공간정보화드론학과  부경대학교 대학원  본교  ...  전기ㆍ전자ㆍ컴퓨터  응용소프트웨어공학   NaN NaN\n",
              "265  266    IT융합응용공학과  부경대학교 대학원  본교  ...  전기ㆍ전자ㆍ컴퓨터  응용소프트웨어공학   NaN NaN\n",
              "\n",
              "[3 rows x 14 columns]"
            ]
          },
          "metadata": {
            "tags": []
          },
          "execution_count": 181
        }
      ]
    },
    {
      "cell_type": "code",
      "metadata": {
        "colab": {
          "base_uri": "https://localhost:8080/",
          "height": 162
        },
        "id": "xhv23jFN_rku",
        "outputId": "9d962f50-4e8c-408b-b8d6-e0fec031c67d"
      },
      "source": [
        "myuni = data[((data['지역'] == '서울') | (data['지역'] == '경기') | (data['지역'] == '부산'))  & (data['주야구분'] == '주간')& (data['구분'] == '본교')& (data['학교종류'] == '대학교')& (data['설립유형'] == '국립')]\n",
        "myuni"
      ],
      "execution_count": 189,
      "outputs": [
        {
          "output_type": "execute_result",
          "data": {
            "text/html": [
              "<div>\n",
              "<style scoped>\n",
              "    .dataframe tbody tr th:only-of-type {\n",
              "        vertical-align: middle;\n",
              "    }\n",
              "\n",
              "    .dataframe tbody tr th {\n",
              "        vertical-align: top;\n",
              "    }\n",
              "\n",
              "    .dataframe thead th {\n",
              "        text-align: right;\n",
              "    }\n",
              "</style>\n",
              "<table border=\"1\" class=\"dataframe\">\n",
              "  <thead>\n",
              "    <tr style=\"text-align: right;\">\n",
              "      <th></th>\n",
              "      <th>No</th>\n",
              "      <th>학과명</th>\n",
              "      <th>대학명</th>\n",
              "      <th>구분</th>\n",
              "      <th>학교종류</th>\n",
              "      <th>지역</th>\n",
              "      <th>설립유형</th>\n",
              "      <th>주야구분</th>\n",
              "      <th>학과특성</th>\n",
              "      <th>표준분류계열(대)</th>\n",
              "      <th>표준분류계열(중)</th>\n",
              "      <th>표준분류계열(소)</th>\n",
              "      <th>특성화학과</th>\n",
              "      <th>관심</th>\n",
              "    </tr>\n",
              "  </thead>\n",
              "  <tbody>\n",
              "    <tr>\n",
              "      <th>68</th>\n",
              "      <td>69</td>\n",
              "      <td>IT융합응용공학과</td>\n",
              "      <td>부경대학교</td>\n",
              "      <td>본교</td>\n",
              "      <td>대학교</td>\n",
              "      <td>부산</td>\n",
              "      <td>국립</td>\n",
              "      <td>주간</td>\n",
              "      <td>일반과정</td>\n",
              "      <td>공학</td>\n",
              "      <td>전기ㆍ전자ㆍ컴퓨터</td>\n",
              "      <td>응용소프트웨어공학</td>\n",
              "      <td>NaN</td>\n",
              "      <td>NaN</td>\n",
              "    </tr>\n",
              "    <tr>\n",
              "      <th>73</th>\n",
              "      <td>74</td>\n",
              "      <td>인공지능응용학과</td>\n",
              "      <td>서울과학기술대학교</td>\n",
              "      <td>본교</td>\n",
              "      <td>대학교</td>\n",
              "      <td>서울</td>\n",
              "      <td>국립</td>\n",
              "      <td>주간</td>\n",
              "      <td>일반과정</td>\n",
              "      <td>공학</td>\n",
              "      <td>전기ㆍ전자ㆍ컴퓨터</td>\n",
              "      <td>응용소프트웨어공학</td>\n",
              "      <td>NaN</td>\n",
              "      <td>NaN</td>\n",
              "    </tr>\n",
              "  </tbody>\n",
              "</table>\n",
              "</div>"
            ],
            "text/plain": [
              "    No        학과명        대학명  구분  ...  표준분류계열(중)  표준분류계열(소) 특성화학과  관심\n",
              "68  69  IT융합응용공학과      부경대학교  본교  ...  전기ㆍ전자ㆍ컴퓨터  응용소프트웨어공학   NaN NaN\n",
              "73  74   인공지능응용학과  서울과학기술대학교  본교  ...  전기ㆍ전자ㆍ컴퓨터  응용소프트웨어공학   NaN NaN\n",
              "\n",
              "[2 rows x 14 columns]"
            ]
          },
          "metadata": {
            "tags": []
          },
          "execution_count": 189
        }
      ]
    }
  ]
}